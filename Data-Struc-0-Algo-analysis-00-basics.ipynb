{
 "cells": [
  {
   "cell_type": "markdown",
   "metadata": {},
   "source": [
    "- It is very common for beginning computer science students to __compare__ their programs with one another. \n",
    "\n",
    "- _An interesting question often arises. When two programs solve the same problem but look different, is one program better than the other?_\n",
    "\n",
    "- In order to answer this question, we need to remember that there is an important difference between a program and the underlying algorithm that the program is representing. \n",
    "\n",
    "- An algorithm is a generic, step-by-step list of instructions for solving a problem. It is a method for solving any instance of the problem such that given a particular input, the algorithm produces the desired result. \n",
    "\n",
    "- A program, on the other hand, is an algorithm that has been encoded into some programming language. There may be many programs for the same algorithm, depending on the programmer and the programming language being used."
   ]
  },
  {
   "cell_type": "markdown",
   "metadata": {},
   "source": [
    "# Example\n",
    "\n",
    "Qs : find the sum of the first n integers"
   ]
  },
  {
   "cell_type": "code",
   "execution_count": 103,
   "metadata": {},
   "outputs": [],
   "source": [
    "# sum of array - using normal list/array\n",
    "def sum(n):\n",
    "    final_sum = 0\n",
    "    for each_number in range(1, n+1):\n",
    "        final_sum = final_sum + each_number\n",
    "    \n",
    "    return final_sum"
   ]
  },
  {
   "cell_type": "code",
   "execution_count": 109,
   "metadata": {
    "collapsed": true
   },
   "outputs": [],
   "source": [
    "# sum of array - using numpy\n",
    "import numpy as np\n",
    "\n",
    "def sum_np(n):\n",
    "    return np.sum(np.arange(n+1), axis=0)"
   ]
  },
  {
   "cell_type": "code",
   "execution_count": 119,
   "metadata": {
    "collapsed": true
   },
   "outputs": [],
   "source": [
    "sum_of_what = 1000000"
   ]
  },
  {
   "cell_type": "code",
   "execution_count": 120,
   "metadata": {},
   "outputs": [
    {
     "name": "stdout",
     "output_type": "stream",
     "text": [
      "Wall time: 79 ms\n"
     ]
    },
    {
     "data": {
      "text/plain": [
       "500000500000"
      ]
     },
     "execution_count": 120,
     "metadata": {},
     "output_type": "execute_result"
    }
   ],
   "source": [
    "%%time\n",
    "sum(sum_of_what)"
   ]
  },
  {
   "cell_type": "code",
   "execution_count": 121,
   "metadata": {},
   "outputs": [
    {
     "name": "stdout",
     "output_type": "stream",
     "text": [
      "1784293664\n",
      "Wall time: 5 ms\n"
     ]
    }
   ],
   "source": [
    "%%time\n",
    "print(sum_np(sum_of_what))"
   ]
  },
  {
   "cell_type": "markdown",
   "metadata": {},
   "source": [
    "# compute time analysis (benchmark)"
   ]
  },
  {
   "cell_type": "code",
   "execution_count": 128,
   "metadata": {},
   "outputs": [
    {
     "name": "stdout",
     "output_type": "stream",
     "text": [
      "Run number : 0, the sum = 5000050000, run time =  0.0079939\n",
      "Run number : 1, the sum = 5000050000, run time =  0.0069964\n",
      "Run number : 2, the sum = 5000050000, run time =  0.0079970\n",
      "Run number : 3, the sum = 5000050000, run time =  0.0079925\n",
      "Run number : 4, the sum = 5000050000, run time =  0.0069969\n"
     ]
    }
   ],
   "source": [
    "# sum using the normal list\n",
    "import time\n",
    "\n",
    "sum_of_what = 100000\n",
    "\n",
    "for run_ctr in range(5):\n",
    "    # note the starting time\n",
    "    start   = time.time()\n",
    "\n",
    "    run_sum = sum(sum_of_what)\n",
    "        \n",
    "    # note the ending time\n",
    "    end   = time.time()\n",
    "    \n",
    "    print('Run number : {}, the sum = {}, run time = {:10.7f}'.format(run_ctr,\n",
    "                                                                run_sum,\n",
    "                                                                end-start))\n",
    "   "
   ]
  },
  {
   "cell_type": "code",
   "execution_count": 129,
   "metadata": {},
   "outputs": [
    {
     "name": "stdout",
     "output_type": "stream",
     "text": [
      "Run number : 0, the sum = 705082704, run time =  0.0009971\n",
      "Run number : 1, the sum = 705082704, run time =  0.0000000\n",
      "Run number : 2, the sum = 705082704, run time =  0.0010004\n",
      "Run number : 3, the sum = 705082704, run time =  0.0000000\n",
      "Run number : 4, the sum = 705082704, run time =  0.0000000\n"
     ]
    }
   ],
   "source": [
    "# sum using the normal list\n",
    "import time\n",
    "\n",
    "sum_of_what = 100000\n",
    "\n",
    "for run_ctr in range(5):\n",
    "    # note the starting time\n",
    "    start   = time.time()\n",
    "\n",
    "    run_sum = sum_np(sum_of_what)\n",
    "        \n",
    "    # note the ending time\n",
    "    end   = time.time()\n",
    "    \n",
    "    print('Run number : {}, the sum = {}, run time = {:10.7f}'.format(run_ctr,\n",
    "                                                                run_sum,\n",
    "                                                                end-start))\n",
    "   "
   ]
  },
  {
   "cell_type": "markdown",
   "metadata": {},
   "source": [
    "#### one more method to find sum"
   ]
  },
  {
   "cell_type": "code",
   "execution_count": 130,
   "metadata": {
    "collapsed": true
   },
   "outputs": [],
   "source": [
    "def sum3(n):\n",
    "    return (n*(n+1))/2"
   ]
  },
  {
   "cell_type": "code",
   "execution_count": 132,
   "metadata": {},
   "outputs": [
    {
     "name": "stdout",
     "output_type": "stream",
     "text": [
      "Run number : 0, the sum = 5000050000.0, run time =  0.0000000\n",
      "Run number : 1, the sum = 5000050000.0, run time =  0.0000000\n",
      "Run number : 2, the sum = 5000050000.0, run time =  0.0000000\n",
      "Run number : 3, the sum = 5000050000.0, run time =  0.0000000\n",
      "Run number : 4, the sum = 5000050000.0, run time =  0.0000000\n"
     ]
    }
   ],
   "source": [
    "# sum using the normal list\n",
    "import time\n",
    "\n",
    "sum_of_what = 100000\n",
    "\n",
    "for run_ctr in range(5):\n",
    "    # note the starting time\n",
    "    start   = time.time()\n",
    "\n",
    "    run_sum = sum3(sum_of_what)\n",
    "        \n",
    "    # note the ending time\n",
    "    end   = time.time()\n",
    "    \n",
    "    print('Run number : {}, the sum = {}, run time = {:10.7f}'.format(run_ctr,\n",
    "                                                                run_sum,\n",
    "                                                                end-start))"
   ]
  },
  {
   "cell_type": "markdown",
   "metadata": {},
   "source": [
    "#### Observation\n",
    "1. Same algorithm\n",
    "2. Achieves the same \n",
    "3. Numpy method is faster"
   ]
  },
  {
   "cell_type": "markdown",
   "metadata": {},
   "source": [
    "- But what does this benchmark really tell us? \n",
    "\n",
    "- Intuitively, we can see that the iterative solutions seem to be doing more work since some program steps are being repeated. This is likely the reason it is taking longer. Also, the time required for the iterative solution seems to increase as we increase the value of n. \n",
    "\n",
    "- However, there is a problem. If we ran the same function on a different computer or used a different programming language, we would likely get different results. It could take even longer to perform sum3 if the computer were older.\n",
    "\n",
    "- We need a better way to characterize these algorithms with respect to execution time. \n",
    "\n",
    "- The benchmark technique computes the actual time to execute. \n",
    "\n",
    "- It does not really provide us with a useful measurement, because it is dependent on a particular machine, program, time of day, compiler, and programming language. \n",
    "\n",
    "- Instead, we would like to have a characterization that is independent of the program or computer being used. This measure would then be useful for judging the algorithm alone and could be used to compare algorithms across implementations."
   ]
  },
  {
   "cell_type": "code",
   "execution_count": null,
   "metadata": {
    "collapsed": true
   },
   "outputs": [],
   "source": []
  }
 ],
 "metadata": {
  "kernelspec": {
   "display_name": "Python 3",
   "language": "python",
   "name": "python3"
  },
  "language_info": {
   "codemirror_mode": {
    "name": "ipython",
    "version": 3
   },
   "file_extension": ".py",
   "mimetype": "text/x-python",
   "name": "python",
   "nbconvert_exporter": "python",
   "pygments_lexer": "ipython3",
   "version": "3.6.3"
  }
 },
 "nbformat": 4,
 "nbformat_minor": 2
}
