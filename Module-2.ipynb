{
 "cells": [
  {
   "cell_type": "markdown",
   "metadata": {},
   "source": [
    "# reading keyboard input"
   ]
  },
  {
   "cell_type": "code",
   "execution_count": 1,
   "metadata": {},
   "outputs": [
    {
     "name": "stdout",
     "output_type": "stream",
     "text": [
      "Enter your input44\n",
      "Received input is:  44\n"
     ]
    }
   ],
   "source": [
    "str = input(\"Enter your input\")\n",
    "print(\"Received input is: \",str)\n"
   ]
  },
  {
   "cell_type": "code",
   "execution_count": 2,
   "metadata": {},
   "outputs": [
    {
     "name": "stdout",
     "output_type": "stream",
     "text": [
      "Enter your name fffff\n",
      "Enter your age 12\n",
      "Welcome  fffff\n",
      "Your age is  12\n",
      "After 5 years, your age will be : 17\n"
     ]
    }
   ],
   "source": [
    "# Example\n",
    "\n",
    "name=input(\"Enter your name \")\n",
    "age=input(\"Enter your age \")\n",
    "\n",
    "print(\"Welcome \",name)\n",
    "print(\"Your age is \",age)\n",
    "\n",
    "print(\"After 5 years, your age will be :\",(int(age)+5))"
   ]
  },
  {
   "cell_type": "markdown",
   "metadata": {
    "collapsed": true
   },
   "source": [
    "# python files input and output\n",
    "\n",
    "|Modes | Description|\n",
    "|------|-----------------------------------------------------|\n",
    "|   r  | default read mode|\n",
    "|  rb  | read binary mode |\n",
    "|  r+  | both reading and writing|\n",
    "|   w  | open file for writing only|\n",
    "|  wb  | write binary mode|\n",
    "|  a   | open file for appending|\n",
    "| ab   | append binary mode|\n",
    "| w+   | open file for both reading and writing|\n",
    "| wb+  | reading writing binary|"
   ]
  },
  {
   "cell_type": "code",
   "execution_count": 2,
   "metadata": {
    "collapsed": true
   },
   "outputs": [],
   "source": [
    "import os\n",
    "\n",
    "newfile = open(r\"C:\\Users\\user\\Desktop\\my_text\", \"w+\")\n",
    "\n",
    "for i in range(1, 3):\n",
    "    newfile.write(\"Hello, welcome to Python\\n\")\n",
    "\n",
    "newfile.close()  "
   ]
  },
  {
   "cell_type": "code",
   "execution_count": 3,
   "metadata": {},
   "outputs": [
    {
     "name": "stdout",
     "output_type": "stream",
     "text": [
      "Hello, welcome to Python\n",
      "Hello, welcome to Python\n",
      "\n"
     ]
    }
   ],
   "source": [
    "f = open(r\"C:\\Users\\user\\Desktop\\my_text\", \"r\")\n",
    "\n",
    "print(f.read())\n",
    "f.close()"
   ]
  },
  {
   "cell_type": "code",
   "execution_count": 5,
   "metadata": {},
   "outputs": [
    {
     "name": "stdout",
     "output_type": "stream",
     "text": [
      "Hello, welcome to Python\n",
      "\n",
      "Hello, welcome to Python\n",
      "\n"
     ]
    }
   ],
   "source": [
    "# Read one line of the file:\n",
    "\n",
    "f = open(r\"C:\\Users\\user\\Desktop\\my_text\", \"r\")\n",
    "\n",
    "print(f.readline())\n",
    "print(f.readline())\n",
    "f.close()"
   ]
  },
  {
   "cell_type": "code",
   "execution_count": 6,
   "metadata": {},
   "outputs": [
    {
     "name": "stdout",
     "output_type": "stream",
     "text": [
      "Hello, welcome to Python\n",
      "\n",
      "Hello, welcome to Python\n",
      "\n"
     ]
    }
   ],
   "source": [
    "f = open(r\"C:\\Users\\user\\Desktop\\my_text\", \"r\")\n",
    "\n",
    "for line in f:\n",
    "    print(line)"
   ]
  },
  {
   "cell_type": "code",
   "execution_count": 7,
   "metadata": {
    "collapsed": true
   },
   "outputs": [],
   "source": [
    "# Write to an Existing File\n",
    "f = open(r\"C:\\Users\\user\\Desktop\\my_text\", \"a\")\n",
    "\n",
    "f.write(\"Now the file has more content!\\n\")\n",
    "f.close()\n"
   ]
  },
  {
   "cell_type": "code",
   "execution_count": 8,
   "metadata": {},
   "outputs": [
    {
     "name": "stdout",
     "output_type": "stream",
     "text": [
      "Hello, welcome to Python\n",
      "\n",
      "Hello, welcome to Python\n",
      "\n",
      "Now the file has more content!\n",
      "\n"
     ]
    }
   ],
   "source": [
    "f = open(r\"C:\\Users\\user\\Desktop\\my_text\", \"r\")\n",
    "\n",
    "for line in f:\n",
    "    print(line)"
   ]
  },
  {
   "cell_type": "markdown",
   "metadata": {},
   "source": [
    "# Sequence operations"
   ]
  },
  {
   "cell_type": "code",
   "execution_count": 40,
   "metadata": {},
   "outputs": [
    {
     "name": "stdout",
     "output_type": "stream",
     "text": [
      "['Marketing', 'Content Designing', 'Sales']\n",
      "['Marketing', 'Content Designing', 'Sales', 'Python', 'Hadoop']\n",
      "['Marketing', 'Content Designing', 'Sales', 'Marketing', 'Content Designing', 'Sales']\n",
      "True\n",
      "Sales\n",
      "['Marketing', 'Content Designing']\n"
     ]
    }
   ],
   "source": [
    "list=[\"Marketing\",\"Content Designing\",\"Sales\"]\n",
    "print(list)\n",
    "\n",
    "#Concatenation\n",
    "print(list+[\"Python\",\"Hadoop\"])\n",
    "\n",
    "#Repetition\n",
    "print(list*2)\n",
    "\n",
    "#Membership Testing\n",
    "print('Marketing' in list)\n",
    "\n",
    "#Indexing\n",
    "print(list[2])\n",
    "\n",
    "#Slicing\n",
    "print(list[0:2])"
   ]
  },
  {
   "cell_type": "markdown",
   "metadata": {},
   "source": [
    "# lists"
   ]
  },
  {
   "cell_type": "code",
   "execution_count": 41,
   "metadata": {},
   "outputs": [
    {
     "name": "stdout",
     "output_type": "stream",
     "text": [
      "Python\n",
      "['Hadoop', 'Python']\n",
      "Android\n",
      "['Hadoop', 'Java', 'Android']\n",
      "['Hadoop', 'Java']\n",
      "[1, 2, 3, 'Machine Learning']\n",
      "[1, 2, 3, 'Machine Learning', 'g', 'h']\n",
      "[1, 'Scripting', 2, 3, 'Machine Learning', 'g', 'h']\n",
      "[1, 'Scripting', 2, 'Machine Learning', 'g', 'h']\n",
      "<class 'list'>\n",
      "[1, 4, 9, 16, 25]\n",
      "None\n",
      "None\n",
      "[1, 4, 9, 16, 25]\n",
      "4\n",
      "[1, 2, 3, 5, 'b', 'c']\n",
      "['Python', 'XYZ', 'ABC', 'PQR']\n",
      "['ABC', 'PQR', 'Python', 'XYZ']\n",
      "['PQR', 'ABC', 'XYZ', 'Python']\n"
     ]
    }
   ],
   "source": [
    "list=[\"Hadoop\",\"Python\",\"Android\"]\n",
    "print(list[1])\n",
    "\n",
    "print(list[0:2])\n",
    "\n",
    "print(list[-1])\n",
    "\n",
    "list=[\"Hadoop\",\"Python\",\"Android\"]\n",
    "\n",
    "list[1]=\"Java\"\n",
    "print(list)\n",
    "\n",
    "del(list[2])\n",
    "print(list)\n",
    "\n",
    "list=[1,2,3]\n",
    "list.append(\"Machine Learning\")\n",
    "print(list)\n",
    "\n",
    "list.extend(['g','h'])\n",
    "print(list)\n",
    "\n",
    "list.insert(1,'Scripting')\n",
    "print(list)\n",
    "\n",
    "list.remove(3)\n",
    "print(list)\n",
    "\n",
    "lst=[1,4,2,'x','y','z']\n",
    "if(type(lst)==list):\n",
    "    print(\"Yes\")\n",
    "\n",
    "\n",
    "\n",
    "list3=[1,2,5,'Python','Haddop']\n",
    "print(type(list3))\n",
    "\n",
    "print([x**2 for x in[1,2,3,4,5]])\n",
    "\n",
    "\n",
    "list4=['Pytyhon','Java','Haddop','Android']\n",
    "print(list4.sort())\n",
    "print(list3.reverse())\n",
    "\n",
    "print([x**2 for x in[1,2,3,4,5]])\n",
    "\n",
    "list=[1,2,3,4,5,'a','b','c']\n",
    "print(list.pop(3))\n",
    "\n",
    "list.remove('a')\n",
    "print(list)\n",
    "\n",
    "list1=['Python','XYZ','ABC','PQR']\n",
    "print(list1)\n",
    "\n",
    "print(sorted(list1))\n",
    "\n",
    "print(list1[::-1])"
   ]
  },
  {
   "cell_type": "markdown",
   "metadata": {},
   "source": [
    "# tuple"
   ]
  },
  {
   "cell_type": "code",
   "execution_count": 1,
   "metadata": {},
   "outputs": [
    {
     "name": "stdout",
     "output_type": "stream",
     "text": [
      "3\n",
      "Python\n",
      "Hadoop\n",
      "3\n",
      "('Hadoop', 'Python', 'Java', 'Hadoop', 'Python', 'Java')\n",
      "True\n",
      "(1, 3, 5, 7, 2, 4, 6, 8)\n",
      "[1, 2, 3, 5]\n",
      "(2, 5, 3, 1)\n"
     ]
    },
    {
     "ename": "NameError",
     "evalue": "name 'lst' is not defined",
     "output_type": "error",
     "traceback": [
      "\u001b[1;31m---------------------------------------------------------------------------\u001b[0m",
      "\u001b[1;31mNameError\u001b[0m                                 Traceback (most recent call last)",
      "\u001b[1;32m<ipython-input-1-1749e7572656>\u001b[0m in \u001b[0;36m<module>\u001b[1;34m()\u001b[0m\n\u001b[0;32m     27\u001b[0m \u001b[1;33m\u001b[0m\u001b[0m\n\u001b[0;32m     28\u001b[0m \u001b[1;33m\u001b[0m\u001b[0m\n\u001b[1;32m---> 29\u001b[1;33m \u001b[0mprint\u001b[0m\u001b[1;33m(\u001b[0m\u001b[0mlst\u001b[0m\u001b[1;33m)\u001b[0m\u001b[1;33m\u001b[0m\u001b[0m\n\u001b[0m\u001b[0;32m     30\u001b[0m \u001b[1;33m\u001b[0m\u001b[0m\n\u001b[0;32m     31\u001b[0m \u001b[0mlst\u001b[0m\u001b[1;33m[\u001b[0m\u001b[1;36m1\u001b[0m\u001b[1;33m]\u001b[0m\u001b[1;33m=\u001b[0m\u001b[1;34m\"Python\"\u001b[0m\u001b[1;33m\u001b[0m\u001b[0m\n",
      "\u001b[1;31mNameError\u001b[0m: name 'lst' is not defined"
     ]
    }
   ],
   "source": [
    "tup1=(\"Hadoop\",\"Python\",\"Java\")\n",
    "\n",
    "print(len(tup1))\n",
    "print(max(tup1))\n",
    "print(min(tup1))\n",
    "\n",
    "tup1=(\"Hadoop\",\"Python\",\"Java\")\n",
    "\n",
    "print(len(tup1))\n",
    "print(tup1*2)\n",
    "print(\"Java\" in tup1)\n",
    "\n",
    "tup2=(1,3,5,7)\n",
    "tup3=(2,4,6,8)\n",
    "tup4=tup2 + tup3\n",
    "print(tup4)\n",
    "\n",
    "#del(tup2)\n",
    "#print(tup2)\n",
    "\n",
    "\n",
    "tup=(1,3,5,2)\n",
    "\n",
    "print(sorted(tup))\n",
    "\n",
    "print(tup[::-1])\n",
    "\n",
    "\n",
    "print(lst)\n",
    "\n",
    "lst[1]=\"Python\"\n",
    "print(lst)\n",
    "\n",
    "tuple2=tuple(lst)\n",
    "print(tuple2)"
   ]
  },
  {
   "cell_type": "code",
   "execution_count": 2,
   "metadata": {
    "collapsed": true
   },
   "outputs": [],
   "source": [
    "tup = (1,3,5,2)"
   ]
  },
  {
   "cell_type": "code",
   "execution_count": 3,
   "metadata": {},
   "outputs": [
    {
     "data": {
      "text/plain": [
       "[1, 2, 3, 5]"
      ]
     },
     "execution_count": 3,
     "metadata": {},
     "output_type": "execute_result"
    }
   ],
   "source": [
    "sorted(tup)"
   ]
  },
  {
   "cell_type": "code",
   "execution_count": 4,
   "metadata": {},
   "outputs": [
    {
     "data": {
      "text/plain": [
       "2"
      ]
     },
     "execution_count": 4,
     "metadata": {},
     "output_type": "execute_result"
    }
   ],
   "source": [
    "tup[-1]"
   ]
  },
  {
   "cell_type": "code",
   "execution_count": 58,
   "metadata": {},
   "outputs": [
    {
     "data": {
      "text/plain": [
       "(3, 5)"
      ]
     },
     "execution_count": 58,
     "metadata": {},
     "output_type": "execute_result"
    }
   ],
   "source": [
    "tup[-3: -1]"
   ]
  },
  {
   "cell_type": "code",
   "execution_count": null,
   "metadata": {
    "collapsed": true
   },
   "outputs": [],
   "source": []
  }
 ],
 "metadata": {
  "kernelspec": {
   "display_name": "Python 3",
   "language": "python",
   "name": "python3"
  },
  "language_info": {
   "codemirror_mode": {
    "name": "ipython",
    "version": 3
   },
   "file_extension": ".py",
   "mimetype": "text/x-python",
   "name": "python",
   "nbconvert_exporter": "python",
   "pygments_lexer": "ipython3",
   "version": "3.6.3"
  }
 },
 "nbformat": 4,
 "nbformat_minor": 2
}
