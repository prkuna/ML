{
 "cells": [
  {
   "cell_type": "code",
   "execution_count": 56,
   "metadata": {
    "collapsed": true
   },
   "outputs": [],
   "source": [
    "import time\n",
    "import random\n",
    "from math import *\n",
    "import operator\n",
    "import pandas as pd\n",
    "import numpy as np\n",
    "from numpy.linalg import inv\n",
    "\n",
    "# import plotting libraries\n",
    "import matplotlib\n",
    "import matplotlib.pyplot as plt\n",
    "from pandas.plotting import scatter_matrix\n",
    "%matplotlib inline \n",
    "\n",
    "import seaborn as sns\n",
    "sns.set(style=\"white\", color_codes=True)\n",
    "sns.set(font_scale=1.5)"
   ]
  },
  {
   "cell_type": "code",
   "execution_count": null,
   "metadata": {
    "collapsed": true
   },
   "outputs": [],
   "source": [
    "# Concept of doubling over a time period, 1 means 100%, 2 means 200% ..."
   ]
  },
  {
   "cell_type": "code",
   "execution_count": 12,
   "metadata": {},
   "outputs": [
    {
     "name": "stdout",
     "output_type": "stream",
     "text": [
      "2 to the power 0 =>  1 .. mean 1 grown 100% , same!\n",
      "2 to the power 1 =>  2 .. mean 1 grown 200% , same!\n",
      "2 to the power 2 =>  4 .. mean 1 grown 400% , same!\n",
      "2 to the power 3 =>  8 .. mean 1 grown 800% , same!\n",
      "2 to the power 4 =>  16 .. mean 1 grown 1600% , same!\n",
      "2 to the power 5 =>  32 .. mean 1 grown 3200% , same!\n",
      "2 to the power 6 =>  64 .. mean 1 grown 6400% , same!\n",
      "2 to the power 7 =>  128 .. mean 1 grown 12800% , same!\n",
      "2 to the power 8 =>  256 .. mean 1 grown 25600% , same!\n",
      "2 to the power 9 =>  512 .. mean 1 grown 51200% , same!\n"
     ]
    }
   ],
   "source": [
    "for i in range(10):\n",
    "    print('2 to the power {} => '.format(i), pow(2,i), '.. mean 1 grown {}% , same!'.format(pow(2,i)*100))"
   ]
  },
  {
   "cell_type": "code",
   "execution_count": null,
   "metadata": {
    "collapsed": true
   },
   "outputs": [],
   "source": [
    "# e(2, 5) = 32\n",
    "# 2 is the growth rate\n",
    "# 5 is the how long you were growing (time periods)\n",
    "# 32 is final size\n",
    "\n",
    "# log (2, 16)\n",
    "# 2 is the growth rate, 2 times\n",
    "# 5 is the final number\n",
    "# find out how many time periods needed "
   ]
  },
  {
   "cell_type": "code",
   "execution_count": null,
   "metadata": {
    "collapsed": true
   },
   "outputs": [],
   "source": []
  }
 ],
 "metadata": {
  "kernelspec": {
   "display_name": "Python 3",
   "language": "python",
   "name": "python3"
  },
  "language_info": {
   "codemirror_mode": {
    "name": "ipython",
    "version": 3
   },
   "file_extension": ".py",
   "mimetype": "text/x-python",
   "name": "python",
   "nbconvert_exporter": "python",
   "pygments_lexer": "ipython3",
   "version": "3.6.3"
  }
 },
 "nbformat": 4,
 "nbformat_minor": 2
}
