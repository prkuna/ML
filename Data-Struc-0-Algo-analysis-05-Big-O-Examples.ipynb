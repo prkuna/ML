{
 "cells": [
  {
   "cell_type": "markdown",
   "metadata": {},
   "source": [
    "There are multiple ways to solve a problem using a computer program. \n",
    "\n",
    "For instance, there are several ways to sort items in an array. \n",
    "\n",
    "    You can use merge sort, bubble sort, insertion sort, etc. \n",
    "    All these algorithms have their own pros and cons. \n",
    "    \n",
    "An algorithm can be thought of a procedure or formula to solve a particular problem. The question is, which algorithm to use to solve a specific problem when there exist multiple solutions to the problem?\n",
    "\n",
    "Algorithm analysis refers to the analysis of the complexity of different algorithms and finding the most efficient algorithm to solve the problem at hand. __Big-O__ Notation is a statistical measure, used to describe the complexity of the algorithm.\n",
    "\n",
    "# Why is Algorithm Analysis Important?"
   ]
  },
  {
   "cell_type": "code",
   "execution_count": 21,
   "metadata": {},
   "outputs": [
    {
     "name": "stdout",
     "output_type": "stream",
     "text": [
      "819 ns ± 1.56 ns per loop (mean ± std. dev. of 7 runs, 1000000 loops each)\n"
     ]
    }
   ],
   "source": [
    "def fact(n):  \n",
    "    product = 1\n",
    "    for i in range(n):\n",
    "        product = product * (i+1)\n",
    "    return product\n",
    "\n",
    "%timeit fact(5)"
   ]
  },
  {
   "cell_type": "markdown",
   "metadata": {},
   "source": [
    "Notice that the algorithm simply takes an integer as an argument. \n",
    "\n",
    "Inside the fact function a variable named product is initialized to 1. \n",
    "\n",
    "A loop executes from 1 to N and during each iteration, the value in the product is multiplied by the number being iterated by the loop and the result is stored in the product variable again.\n",
    "\n",
    "After the loop executes, the product variable will contain the factorial."
   ]
  },
  {
   "cell_type": "code",
   "execution_count": 20,
   "metadata": {},
   "outputs": [
    {
     "name": "stdout",
     "output_type": "stream",
     "text": [
      "920 ns ± 8.86 ns per loop (mean ± std. dev. of 7 runs, 1000000 loops each)\n"
     ]
    }
   ],
   "source": [
    "def fact2(n):  \n",
    "    if n == 0:\n",
    "        return 1\n",
    "    else:\n",
    "        return n * fact2(n-1)\n",
    "\n",
    "%timeit fact2(5)"
   ]
  },
  {
   "cell_type": "markdown",
   "metadata": {},
   "source": [
    "which algorithm to use?\n",
    "\n",
    "We have to find the complexity of the algorithm. \n",
    "\n",
    "1. One way to do so is by finding the time required to __execute__ the algorithms.\n",
    "\n",
    "\n",
    "The execution time shows that the first algorithm is faster compared to the second algorithm involving recursion. This example shows the importance of algorithm analysis. In the case of large inputs, the performance difference can become more significant.\n",
    "\n",
    "However, __execution time is not a good metric__ to measure the complexity of an algorithm since it depends upon the hardware. \n",
    "\n",
    "A more objective complexity analysis metrics for the algorithms is needed. This is where __Big O notation__ comes to play."
   ]
  },
  {
   "cell_type": "markdown",
   "metadata": {},
   "source": [
    "# Common Big-O notations\n",
    "\n",
    "    Name\t    Big O\n",
    "    Constant\tO(c)\n",
    "    Linear\t    O(n)\n",
    "    Quadratic\tO(n^2)\n",
    "    Cubic\t    O(n^3)\n",
    "    Exponential\tO(2^n)\n",
    "    Logarithmic\tO(log(n))\n",
    "    Log Linear\tO(nlog(n))\n",
    "    \n",
    "### (1) Constant Complexity (O(C))\n",
    "The complexity of an algorithm is said to be constant if the steps required to complete the execution of an algorithm remain constant, irrespective of the number of inputs. The constant complexity is denoted by O(c) where c can be any constant number."
   ]
  },
  {
   "cell_type": "code",
   "execution_count": 23,
   "metadata": {},
   "outputs": [
    {
     "data": {
      "text/plain": [
       "16"
      ]
     },
     "execution_count": 23,
     "metadata": {},
     "output_type": "execute_result"
    }
   ],
   "source": [
    "def constant_algo(items):  \n",
    "    result = items[0] * items[0]\n",
    "    return result\n",
    "\n",
    "constant_algo([4, 5, 6, 8])  "
   ]
  },
  {
   "cell_type": "markdown",
   "metadata": {},
   "source": [
    "irrespective of the input size, or the number of items in the input list items, the algorithm performs only 2 steps: Finding the __square of the first element__ and printing the result on the screen. Hence, the complexity remains constant.\n",
    "\n",
    "If you draw a line plot with the \n",
    "    - varying size of the items input on the x-axis and \n",
    "    - the number of steps on the y-axis, \n",
    "you will get a straight line."
   ]
  },
  {
   "cell_type": "code",
   "execution_count": 24,
   "metadata": {},
   "outputs": [
    {
     "data": {
      "image/png": "[encoded data removed]",
      "text/plain": [
       "<matplotlib.figure.Figure at 0x1d4ffc30358>"
      ]
     },
     "metadata": {},
     "output_type": "display_data"
    }
   ],
   "source": [
    "import matplotlib.pyplot as plt  \n",
    "import numpy as np\n",
    "\n",
    "x = [2, 4, 6, 8, 10, 12]\n",
    "y = [2, 2, 2, 2, 2, 2]\n",
    "\n",
    "plt.plot(x, y, 'b')  \n",
    "plt.xlabel('Inputs')  \n",
    "plt.ylabel('Steps')  \n",
    "plt.title('Constant Complexity')  \n",
    "plt.show()  "
   ]
  },
  {
   "cell_type": "markdown",
   "metadata": {},
   "source": [
    "### (2) Linear Complexity (O(n))\n",
    "\n",
    "The complexity of an algorithm is said to be linear if the steps required to complete the execution of an algorithm increase or decrease linearly with the number of inputs. Linear complexity is denoted by O(n)."
   ]
  },
  {
   "cell_type": "code",
   "execution_count": 25,
   "metadata": {},
   "outputs": [
    {
     "name": "stdout",
     "output_type": "stream",
     "text": [
      "4\n",
      "5\n",
      "6\n",
      "8\n"
     ]
    }
   ],
   "source": [
    "def linear_algo(items):  \n",
    "    for item in items:\n",
    "        print(item)\n",
    "\n",
    "linear_algo([4, 5, 6, 8]) "
   ]
  },
  {
   "cell_type": "markdown",
   "metadata": {},
   "source": [
    "The complexity of the linear_algo function is linear in the above example since the number of iterations of the for-loop will be equal to the size of the input items array. For instance, if there are 4 items in the items list, the for-loop will be executed 4 times, and so on."
   ]
  },
  {
   "cell_type": "code",
   "execution_count": 26,
   "metadata": {},
   "outputs": [
    {
     "data": {
      "image/png": "[encoded data removed]",
      "text/plain": [
       "<matplotlib.figure.Figure at 0x1d4ffc30a58>"
      ]
     },
     "metadata": {},
     "output_type": "display_data"
    }
   ],
   "source": [
    "import matplotlib.pyplot as plt  \n",
    "import numpy as np\n",
    "\n",
    "x = [2, 4, 6, 8, 10, 12]\n",
    "\n",
    "y = [2, 4, 6, 8, 10, 12]\n",
    "\n",
    "plt.plot(x, y, 'b')  \n",
    "plt.xlabel('Inputs')  \n",
    "plt.ylabel('Steps')  \n",
    "plt.title('Linear Complexity')  \n",
    "plt.show()"
   ]
  },
  {
   "cell_type": "code",
   "execution_count": 27,
   "metadata": {},
   "outputs": [
    {
     "name": "stdout",
     "output_type": "stream",
     "text": [
      "4\n",
      "5\n",
      "6\n",
      "8\n",
      "4\n",
      "5\n",
      "6\n",
      "8\n"
     ]
    }
   ],
   "source": [
    "def linear_algo(items):  \n",
    "    for item in items:\n",
    "        print(item)\n",
    "\n",
    "    for item in items:\n",
    "        print(item)\n",
    "\n",
    "linear_algo([4, 5, 6, 8])  "
   ]
  },
  {
   "cell_type": "markdown",
   "metadata": {},
   "source": [
    "In the script above, there are two for-loops that iterate over the input items list. Therefore the complexity of the algorithm becomes O(2n), however in case of infinite items in the input list, the twice of infinity is still equal to infinity, therefore we can ignore the constant 2 (since it is ultimately insignificant) and the complexity of the algorithm remains O(n)."
   ]
  },
  {
   "cell_type": "code",
   "execution_count": 28,
   "metadata": {},
   "outputs": [
    {
     "data": {
      "image/png": "[encoded data removed]",
      "text/plain": [
       "<matplotlib.figure.Figure at 0x1d480f93b00>"
      ]
     },
     "metadata": {},
     "output_type": "display_data"
    }
   ],
   "source": [
    "import matplotlib.pyplot as plt  \n",
    "import numpy as np\n",
    "\n",
    "x = [2, 4, 6, 8, 10, 12]\n",
    "\n",
    "y = [4, 8, 12, 16, 20, 24]\n",
    "\n",
    "plt.plot(x, y, 'b')  \n",
    "plt.xlabel('Inputs')  \n",
    "plt.ylabel('Steps')  \n",
    "plt.title('Linear Complexity')  \n",
    "plt.show()  "
   ]
  },
  {
   "cell_type": "markdown",
   "metadata": {},
   "source": [
    "### Quadratic Complexity (O(n^2))\n",
    "The complexity of an algorithm is said to be quadratic when the steps required to execute an algorithm are a quadratic function of the number of items in the input. \n",
    "\n",
    "Quadratic complexity is denoted as O($n^2$). "
   ]
  },
  {
   "cell_type": "code",
   "execution_count": 29,
   "metadata": {},
   "outputs": [
    {
     "name": "stdout",
     "output_type": "stream",
     "text": [
      "4   4\n",
      "4   4\n",
      "4   4\n",
      "4   4\n",
      "5   5\n",
      "5   5\n",
      "5   5\n",
      "5   5\n",
      "6   6\n",
      "6   6\n",
      "6   6\n",
      "6   6\n",
      "8   8\n",
      "8   8\n",
      "8   8\n",
      "8   8\n"
     ]
    }
   ],
   "source": [
    "def quadratic_algo(items):  \n",
    "    for item in items:\n",
    "        for item2 in items:\n",
    "            print(item, ' ' ,item)\n",
    "\n",
    "quadratic_algo([4, 5, 6, 8])  "
   ]
  },
  {
   "cell_type": "code",
   "execution_count": 30,
   "metadata": {},
   "outputs": [
    {
     "data": {
      "image/png": "[encoded data removed]",
      "text/plain": [
       "<matplotlib.figure.Figure at 0x1d480fcc630>"
      ]
     },
     "metadata": {},
     "output_type": "display_data"
    }
   ],
   "source": [
    "import matplotlib.pyplot as plt  \n",
    "import numpy as np\n",
    "\n",
    "x = [2, 4, 6, 8, 10, 12]\n",
    "\n",
    "y = [4, 16, 36, 64, 100, 144]\n",
    "\n",
    "plt.plot(x, y, 'b')  \n",
    "plt.xlabel('Inputs')  \n",
    "plt.ylabel('Steps')  \n",
    "plt.title('Linear Complexity')  \n",
    "plt.show()  "
   ]
  },
  {
   "cell_type": "markdown",
   "metadata": {},
   "source": [
    "# Finding the Complexity of Complex Functions\n",
    "\n",
    "What if multiple functions are being performed on the input? "
   ]
  },
  {
   "cell_type": "code",
   "execution_count": 31,
   "metadata": {},
   "outputs": [
    {
     "name": "stdout",
     "output_type": "stream",
     "text": [
      "Python is awesome\n",
      "Python is awesome\n",
      "Python is awesome\n",
      "Python is awesome\n",
      "Python is awesome\n",
      "4\n",
      "5\n",
      "6\n",
      "8\n",
      "4\n",
      "5\n",
      "6\n",
      "8\n",
      "Big O\n",
      "Big O\n",
      "Big O\n"
     ]
    }
   ],
   "source": [
    "def complex_algo(items):\n",
    "\n",
    "    for i in range(5):\n",
    "        print (\"Python is awesome\")\n",
    "\n",
    "    for item in items:\n",
    "        print(item)\n",
    "\n",
    "    for item in items:\n",
    "        print(item)\n",
    "\n",
    "    print(\"Big O\")\n",
    "    print(\"Big O\")\n",
    "    print(\"Big O\")\n",
    "\n",
    "complex_algo([4, 5, 6, 8])  "
   ]
  },
  {
   "cell_type": "markdown",
   "metadata": {},
   "source": [
    "- a string is printed 5 times.. O(5)\n",
    "- inout list being printed n times.. O(2n)\n",
    "- 3 times prints.. O(3)\n",
    "\n",
    "O(8) + O(2n)  \n",
    "\n",
    "we can ignore the constants. The final complexity of the algorithm will be O(n)."
   ]
  },
  {
   "cell_type": "markdown",
   "metadata": {},
   "source": [
    "# Worst vs Best Case Complexity\n",
    "\n",
    "Usually,\n",
    "- the complexity of the algorithm = worst case complexity"
   ]
  },
  {
   "cell_type": "code",
   "execution_count": 32,
   "metadata": {},
   "outputs": [
    {
     "name": "stdout",
     "output_type": "stream",
     "text": [
      "True\n"
     ]
    }
   ],
   "source": [
    "def search_algo(num, items):  \n",
    "    for item in items:\n",
    "        \n",
    "        if item == num:\n",
    "            return True\n",
    "        else:\n",
    "            return False\n",
    "        \n",
    "nums = [2, 4, 6, 8, 10]\n",
    "\n",
    "print(search_algo(2, nums))  "
   ]
  },
  {
   "cell_type": "markdown",
   "metadata": {},
   "source": [
    "- A function that takes a number and a list of numbers as input. \n",
    "\n",
    "- It returns true if the passed number is found in the list of numbers, otherwise it returns false. \n",
    "\n",
    "- If you search 2 in the list, it will be found in the first comparison. \n",
    "    - This is the best case complexity of the algorithm that the searched item is found in the first searched index. \n",
    "    - The best case complexity, in this case, is O(1). \n",
    "- On the other hand, if you search 10, \n",
    "    - it will be found at the last searched index. \n",
    "    - The algorithm will have to search through all the items in the list, \n",
    "    - hence the worst case complexity becomes O(n).\n",
    "    \n",
    "In addition to best and worst case complexity, you can also calculate the average complexity of an algorithm, which tells you \"given a random input, what is the expected time complexity of the algorithm\"?"
   ]
  },
  {
   "cell_type": "code",
   "execution_count": null,
   "metadata": {
    "collapsed": true
   },
   "outputs": [],
   "source": []
  }
 ],
 "metadata": {
  "kernelspec": {
   "display_name": "Python 3",
   "language": "python",
   "name": "python3"
  },
  "language_info": {
   "codemirror_mode": {
    "name": "ipython",
    "version": 3
   },
   "file_extension": ".py",
   "mimetype": "text/x-python",
   "name": "python",
   "nbconvert_exporter": "python",
   "pygments_lexer": "ipython3",
   "version": "3.6.3"
  }
 },
 "nbformat": 4,
 "nbformat_minor": 2
}
