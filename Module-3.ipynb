{
 "cells": [
  {
   "cell_type": "markdown",
   "metadata": {},
   "source": [
    "# functions"
   ]
  },
  {
   "cell_type": "code",
   "execution_count": 3,
   "metadata": {
    "collapsed": true
   },
   "outputs": [],
   "source": [
    "def print_name(str):\n",
    "    print(\"Welcome to Python, \",str)\n",
    "    return()\n"
   ]
  },
  {
   "cell_type": "code",
   "execution_count": 4,
   "metadata": {},
   "outputs": [
    {
     "name": "stdout",
     "output_type": "stream",
     "text": [
      "Enter your name :3333\n",
      "Welcome to Python,  3333\n"
     ]
    },
    {
     "data": {
      "text/plain": [
       "()"
      ]
     },
     "execution_count": 4,
     "metadata": {},
     "output_type": "execute_result"
    }
   ],
   "source": [
    "str=input(\"Enter your name :\")\n",
    "print_name(str)"
   ]
  },
  {
   "cell_type": "code",
   "execution_count": 1,
   "metadata": {
    "collapsed": true
   },
   "outputs": [],
   "source": [
    "def add(a,b):\n",
    "    sum=a+b\n",
    "    return (sum)"
   ]
  },
  {
   "cell_type": "code",
   "execution_count": 2,
   "metadata": {},
   "outputs": [
    {
     "name": "stdout",
     "output_type": "stream",
     "text": [
      "Enter first number1\n",
      "Enter second number1\n",
      "Addition of 2 number is: 2\n"
     ]
    }
   ],
   "source": [
    "num1 = input(\"Enter first number\")\n",
    "num2 = input(\"Enter second number\")\n",
    "\n",
    "n1=int(num1)\n",
    "n2=int(num2)\n",
    "\n",
    "ans=add(n1,n2)\n",
    "\n",
    "print(\"Addition of 2 number is:\",ans)"
   ]
  },
  {
   "cell_type": "markdown",
   "metadata": {
    "collapsed": true
   },
   "source": [
    "# Classes and OOP"
   ]
  },
  {
   "cell_type": "code",
   "execution_count": 5,
   "metadata": {
    "collapsed": true
   },
   "outputs": [],
   "source": [
    "# Creating a Class\n",
    "class number():\n",
    "    pass"
   ]
  },
  {
   "cell_type": "code",
   "execution_count": 6,
   "metadata": {},
   "outputs": [
    {
     "name": "stdout",
     "output_type": "stream",
     "text": [
      "<__main__.number object at 0x000002086AF505C0>\n"
     ]
    }
   ],
   "source": [
    "# Creating Instance of Class\n",
    "x=number()\n",
    "print(x)"
   ]
  },
  {
   "cell_type": "code",
   "execution_count": 8,
   "metadata": {},
   "outputs": [],
   "source": [
    "# Creating a Class\n",
    "class OOP():\n",
    "    def Hello(self):\n",
    "        print('Learn OOP')\n",
    "    "
   ]
  },
  {
   "cell_type": "markdown",
   "metadata": {},
   "source": [
    "'self' points to the class. obj is the object of the class\n",
    "\n",
    "we can call obj.Hello()"
   ]
  },
  {
   "cell_type": "code",
   "execution_count": 10,
   "metadata": {},
   "outputs": [
    {
     "name": "stdout",
     "output_type": "stream",
     "text": [
      "Learn OOP\n"
     ]
    }
   ],
   "source": [
    "obj = OOP()\n",
    "\n",
    "obj.Hello()"
   ]
  },
  {
   "cell_type": "markdown",
   "metadata": {},
   "source": [
    "#### global and local variables"
   ]
  },
  {
   "cell_type": "code",
   "execution_count": 22,
   "metadata": {},
   "outputs": [
    {
     "name": "stdout",
     "output_type": "stream",
     "text": [
      "100\n"
     ]
    }
   ],
   "source": [
    "global_var = 100\n",
    "\n",
    "# Creating a Class\n",
    "class OOP():\n",
    "    '''\n",
    "        my first OOP class\n",
    "    '''\n",
    "    local_var = 100\n",
    "    def Hello(self):\n",
    "        print('Learn OOP')\n",
    "        \n",
    "    print(local_var)"
   ]
  },
  {
   "cell_type": "code",
   "execution_count": 23,
   "metadata": {},
   "outputs": [
    {
     "name": "stdout",
     "output_type": "stream",
     "text": [
      "Learn OOP\n"
     ]
    }
   ],
   "source": [
    "obj = OOP()\n",
    "\n",
    "obj.Hello()"
   ]
  },
  {
   "cell_type": "markdown",
   "metadata": {},
   "source": [
    "#### built-in class attributes"
   ]
  },
  {
   "cell_type": "code",
   "execution_count": 26,
   "metadata": {},
   "outputs": [
    {
     "name": "stdout",
     "output_type": "stream",
     "text": [
      "OOP dict:  {'__module__': '__main__', '__doc__': '\\n        my first OOP class\\n    ', 'local_var': 100, 'Hello': <function OOP.Hello at 0x000002086B074620>, '__dict__': <attribute '__dict__' of 'OOP' objects>, '__weakref__': <attribute '__weakref__' of 'OOP' objects>}\n",
      "OOP Doc:  \n",
      "        my first OOP class\n",
      "    \n",
      "OOP Name:  OOP\n",
      "OOP Module:  __main__\n"
     ]
    }
   ],
   "source": [
    "# class's namespace\n",
    "print(\"OOP dict: \", OOP.__dict__)\n",
    "\n",
    "# class doc if defined\n",
    "print(\"OOP Doc: \", OOP.__doc__)\n",
    "\n",
    "# class name\n",
    "print(\"OOP Name: \", OOP.__name__)\n",
    "\n",
    "print(\"OOP Module: \", OOP.__module__)"
   ]
  },
  {
   "cell_type": "markdown",
   "metadata": {},
   "source": [
    "#### attributes defined by users\n",
    "\n",
    "- Private attributes - only access inside of the class\n",
    "    - python used=s 2 underscores \n",
    "- Public attributes - can be freely used\n",
    "- Protected attributes - only with class and sub-classes"
   ]
  },
  {
   "cell_type": "code",
   "execution_count": 33,
   "metadata": {
    "collapsed": true
   },
   "outputs": [],
   "source": [
    "# Creating a Class\n",
    "class OOP():\n",
    "    '''\n",
    "        my first OOP class\n",
    "    '''\n",
    "    def __init__(self):\n",
    "        self.__priv = 'I am private'\n",
    "        self._pro   = \"I am protected\"\n",
    "        self.pub    = \"I am public\"\n",
    "        \n",
    "    def __privMethod(self):\n",
    "        print('this is from private method')\n"
   ]
  },
  {
   "cell_type": "code",
   "execution_count": 34,
   "metadata": {
    "collapsed": true
   },
   "outputs": [],
   "source": [
    "obj = OOP()\n"
   ]
  },
  {
   "cell_type": "code",
   "execution_count": 35,
   "metadata": {},
   "outputs": [
    {
     "name": "stdout",
     "output_type": "stream",
     "text": [
      "I am public\n"
     ]
    }
   ],
   "source": [
    "print(obj.pub)"
   ]
  },
  {
   "cell_type": "code",
   "execution_count": 38,
   "metadata": {},
   "outputs": [
    {
     "ename": "AttributeError",
     "evalue": "'OOP' object has no attribute '__privMethod'",
     "output_type": "error",
     "traceback": [
      "\u001b[1;31m---------------------------------------------------------------------------\u001b[0m",
      "\u001b[1;31mAttributeError\u001b[0m                            Traceback (most recent call last)",
      "\u001b[1;32m<ipython-input-38-8aaa27e56a0a>\u001b[0m in \u001b[0;36m<module>\u001b[1;34m()\u001b[0m\n\u001b[0;32m      1\u001b[0m \u001b[1;31m# the following will error out\u001b[0m\u001b[1;33m\u001b[0m\u001b[1;33m\u001b[0m\u001b[0m\n\u001b[1;32m----> 2\u001b[1;33m \u001b[0mobj\u001b[0m\u001b[1;33m.\u001b[0m\u001b[0m__privMethod\u001b[0m\u001b[1;33m(\u001b[0m\u001b[1;33m)\u001b[0m\u001b[1;33m\u001b[0m\u001b[0m\n\u001b[0m",
      "\u001b[1;31mAttributeError\u001b[0m: 'OOP' object has no attribute '__privMethod'"
     ]
    }
   ],
   "source": [
    "# the following will error out\n",
    "obj.__privMethod()"
   ]
  },
  {
   "cell_type": "markdown",
   "metadata": {},
   "source": [
    "Private methods can be accessed using 1 _ with class name"
   ]
  },
  {
   "cell_type": "code",
   "execution_count": 39,
   "metadata": {},
   "outputs": [
    {
     "name": "stdout",
     "output_type": "stream",
     "text": [
      "this is from private method\n"
     ]
    }
   ],
   "source": [
    "obj._OOP__privMethod()"
   ]
  },
  {
   "cell_type": "markdown",
   "metadata": {},
   "source": [
    "#### class variable and instance variable"
   ]
  },
  {
   "cell_type": "code",
   "execution_count": 44,
   "metadata": {
    "collapsed": true
   },
   "outputs": [],
   "source": [
    "# Creating a Class\n",
    "class OOP():\n",
    "    '''\n",
    "        my first OOP class\n",
    "    '''\n",
    "    domain = 'Data Science'         # class variable\n",
    "    def __init__(self):\n",
    "        self.__priv = 'I am private'\n",
    "        self._pro   = \"I am protected\"\n",
    "        self.pub    = \"I am public\"\n",
    "        \n",
    "    def __privMethod(self):\n",
    "        print('this is from private method')\n",
    "        \n",
    "    def setCourse(self, name):\n",
    "        self.name = name"
   ]
  },
  {
   "cell_type": "code",
   "execution_count": 45,
   "metadata": {
    "collapsed": true
   },
   "outputs": [],
   "source": [
    "# define instances of the class\n",
    "obj1 = OOP()\n",
    "obj2 = OOP()"
   ]
  },
  {
   "cell_type": "code",
   "execution_count": 47,
   "metadata": {
    "collapsed": true
   },
   "outputs": [],
   "source": [
    "# class variable shared\n",
    "obj1.setCourse(\"Python\")\n",
    "obj2.setCourse(\"Machine learning\")"
   ]
  },
  {
   "cell_type": "code",
   "execution_count": 48,
   "metadata": {},
   "outputs": [
    {
     "data": {
      "text/plain": [
       "'Data Science'"
      ]
     },
     "execution_count": 48,
     "metadata": {},
     "output_type": "execute_result"
    }
   ],
   "source": [
    "obj1.domain"
   ]
  },
  {
   "cell_type": "code",
   "execution_count": 49,
   "metadata": {
    "collapsed": true
   },
   "outputs": [],
   "source": [
    "obj1.domain = 'AI'"
   ]
  },
  {
   "cell_type": "code",
   "execution_count": 50,
   "metadata": {},
   "outputs": [
    {
     "data": {
      "text/plain": [
       "('AI', 'Data Science')"
      ]
     },
     "execution_count": 50,
     "metadata": {},
     "output_type": "execute_result"
    }
   ],
   "source": [
    "obj1.domain, obj2.domain"
   ]
  },
  {
   "cell_type": "code",
   "execution_count": 51,
   "metadata": {},
   "outputs": [
    {
     "data": {
      "text/plain": [
       "('Python', 'Machine learning')"
      ]
     },
     "execution_count": 51,
     "metadata": {},
     "output_type": "execute_result"
    }
   ],
   "source": [
    "obj1.name, obj2.name"
   ]
  },
  {
   "cell_type": "markdown",
   "metadata": {},
   "source": [
    "#### constructor and destructor"
   ]
  },
  {
   "cell_type": "code",
   "execution_count": 53,
   "metadata": {
    "collapsed": true
   },
   "outputs": [],
   "source": [
    "# Creating a Class\n",
    "class OOP():\n",
    "    '''\n",
    "        my first OOP class\n",
    "    '''\n",
    "    domain = 'Data Science'         # class variable\n",
    "    def __init__(self):\n",
    "        self.__priv = 'I am private'\n",
    "        self._pro   = \"I am protected\"\n",
    "        self.pub    = \"I am public\"\n",
    "        \n",
    "    def __privMethod(self):\n",
    "        print('this is from private method')\n",
    "        \n",
    "    def setCourse(self, name):\n",
    "        self.name = name\n",
    "        \n",
    "    def __del__(self):\n",
    "        print('Destroying class...')"
   ]
  },
  {
   "cell_type": "code",
   "execution_count": 54,
   "metadata": {},
   "outputs": [
    {
     "name": "stdout",
     "output_type": "stream",
     "text": [
      "Destroying class...\n"
     ]
    }
   ],
   "source": [
    "# define instances of the class\n",
    "obj1 = OOP()\n",
    "\n",
    "del obj1"
   ]
  },
  {
   "cell_type": "code",
   "execution_count": 55,
   "metadata": {},
   "outputs": [
    {
     "ename": "NameError",
     "evalue": "name 'obj1' is not defined",
     "output_type": "error",
     "traceback": [
      "\u001b[1;31m---------------------------------------------------------------------------\u001b[0m",
      "\u001b[1;31mNameError\u001b[0m                                 Traceback (most recent call last)",
      "\u001b[1;32m<ipython-input-55-4007ea0c3e2c>\u001b[0m in \u001b[0;36m<module>\u001b[1;34m()\u001b[0m\n\u001b[1;32m----> 1\u001b[1;33m \u001b[0mid\u001b[0m\u001b[1;33m(\u001b[0m\u001b[0mobj1\u001b[0m\u001b[1;33m)\u001b[0m\u001b[1;33m\u001b[0m\u001b[0m\n\u001b[0m",
      "\u001b[1;31mNameError\u001b[0m: name 'obj1' is not defined"
     ]
    }
   ],
   "source": [
    "id(obj1)"
   ]
  },
  {
   "cell_type": "markdown",
   "metadata": {},
   "source": [
    "#### multiple constructors\n",
    "\n",
    "Overloading constructors in Python"
   ]
  },
  {
   "cell_type": "code",
   "execution_count": 68,
   "metadata": {},
   "outputs": [],
   "source": [
    "class Date:\n",
    "    def __init__(self, year, month, day): #year-month-day\n",
    "        self.year = year\n",
    "        self.month = month\n",
    "        self.day = day\n",
    "        # print(\"init\")\n",
    "        \n",
    "    @classmethod\n",
    "    def dmy(cls, day, month, year): #day-month-year\n",
    "        # print(\"dmy\")\n",
    "        cls.year = year\n",
    "        cls.month = month\n",
    "        cls.day = day\n",
    "        #order of return should be same as init\n",
    "        return cls(cls.year, cls.month, cls.day)\n",
    "\n",
    "    @classmethod\n",
    "    def mdy(cls, month, day, year): #month-day-year\n",
    "        # print(\"mdy\")\n",
    "        cls.year = year\n",
    "        cls.month = month\n",
    "        cls.day = day\n",
    "        #order of return should be same as init\n",
    "        return cls(cls.year, cls.month, cls.day)"
   ]
  },
  {
   "cell_type": "code",
   "execution_count": 69,
   "metadata": {},
   "outputs": [
    {
     "name": "stdout",
     "output_type": "stream",
     "text": [
      "2016\n",
      "2015\n",
      "2014\n"
     ]
    }
   ],
   "source": [
    "a=Date(2016, 12, 11)\n",
    "print(a.year) #2016\n",
    "\n",
    "b=Date.dmy(9, 10, 2015)\n",
    "print(b.year) #2015\n",
    "\n",
    "a=Date.mdy(7, 8, 2014)\n",
    "print(a.year) #2014"
   ]
  },
  {
   "cell_type": "code",
   "execution_count": 66,
   "metadata": {
    "collapsed": true
   },
   "outputs": [],
   "source": [
    "class Book:\n",
    "    def __init__(self, title: str, author: str, pages: int):\n",
    "        self.title = title\n",
    "        self.author = author\n",
    "        self.pages = pages\n",
    "\n",
    "    @classmethod\n",
    "    def from_json(cls, book_as_json: str) -> 'Book':\n",
    "    \tbook = json.loads(book_as_json)\n",
    "    \treturn cls(title=book['title'], author=book['author'], pages=book['pages'])"
   ]
  },
  {
   "cell_type": "markdown",
   "metadata": {},
   "source": [
    "#### Abstraction\n",
    "separate the use of class from implementation\n",
    "\n",
    "#### Encapsulation\n",
    "Combining the code into a public interface and a private implementation of that interface\n",
    "\n",
    "#### Inheritance\n",
    "deriving a class from a base class\n",
    "- Single\n",
    "- Multiple \n",
    "- Multilevel\n"
   ]
  },
  {
   "cell_type": "code",
   "execution_count": 71,
   "metadata": {
    "collapsed": true
   },
   "outputs": [],
   "source": [
    "class Person(object): \n",
    "       \n",
    "    # Constructor \n",
    "    def __init__(self, name): \n",
    "        self.name = name \n",
    "   \n",
    "    # To get name \n",
    "    def getName(self): \n",
    "        return self.name \n",
    "   \n",
    "    # To check if this person is employee \n",
    "    def isEmployee(self): \n",
    "        return False"
   ]
  },
  {
   "cell_type": "code",
   "execution_count": 72,
   "metadata": {
    "collapsed": true
   },
   "outputs": [],
   "source": [
    "# Inherited or Sub class (Note Person in bracket) \n",
    "class Employee(Person): \n",
    "   \n",
    "    # Here we return true \n",
    "    def isEmployee(self): \n",
    "        return True"
   ]
  },
  {
   "cell_type": "code",
   "execution_count": 73,
   "metadata": {},
   "outputs": [
    {
     "name": "stdout",
     "output_type": "stream",
     "text": [
      "ML-Expert False\n",
      "AI-Expert True\n"
     ]
    }
   ],
   "source": [
    "# Driver code \n",
    "emp = Person(\"ML-Expert\")  # An Object of Person \n",
    "print(emp.getName(), emp.isEmployee()) \n",
    "   \n",
    "emp = Employee(\"AI-Expert\") # An Object of Employee \n",
    "print(emp.getName(), emp.isEmployee()) "
   ]
  },
  {
   "cell_type": "code",
   "execution_count": 78,
   "metadata": {},
   "outputs": [],
   "source": [
    "# multiple inheritance\n",
    "# Python example to show working of multiple  \n",
    "# inheritance \n",
    "class Base1(object): \n",
    "    def __init__(self): \n",
    "        self.str1 = \"Bangalore\"\n",
    "        print(\"Base1\")\n",
    "  \n",
    "class Base2(object): \n",
    "    def __init__(self): \n",
    "        self.str2 = \"Kolkata\"        \n",
    "        print (\"Base2\")\n",
    "  \n",
    "class Derived(Base1, Base2): \n",
    "    def __init__(self): \n",
    "          \n",
    "        # Calling constructors of Base1 \n",
    "        # and Base2 classes \n",
    "        Base1.__init__(self) \n",
    "        Base2.__init__(self) \n",
    "        print (\"Derived\")\n",
    "          \n",
    "    def printStrs(self): \n",
    "        print(self.str1, self.str2) "
   ]
  },
  {
   "cell_type": "code",
   "execution_count": 79,
   "metadata": {},
   "outputs": [
    {
     "name": "stdout",
     "output_type": "stream",
     "text": [
      "Base1\n",
      "Base2\n",
      "Derived\n",
      "Bangalore Kolkata\n"
     ]
    }
   ],
   "source": [
    "ob = Derived() \n",
    "ob.printStrs() "
   ]
  },
  {
   "cell_type": "code",
   "execution_count": null,
   "metadata": {
    "collapsed": true
   },
   "outputs": [],
   "source": [
    "# overriding method\n",
    "class Parent: # define parent class\n",
    "    def myMethod(self):\n",
    "        print(\"Calling parent method\")\n",
    "        \n",
    "class Child(Parent): # define child class\n",
    "    def myMethod(self):\n",
    "        print(\"Calling child method\")\n",
    "    \n",
    "c = Child()   # instance of child\n",
    "c.myMethod()  # child calls overridden method"
   ]
  },
  {
   "cell_type": "code",
   "execution_count": 80,
   "metadata": {},
   "outputs": [
    {
     "name": "stdout",
     "output_type": "stream",
     "text": [
      "16  is area of square\n",
      "8  is area of rectangle\n"
     ]
    }
   ],
   "source": [
    "#Another Example:\n",
    "class Rectangle():\n",
    "    def __init__(self,length,breadth):\n",
    "        self.length = length\n",
    "        self.breadth = breadth\n",
    "        \n",
    "    def getArea(self):\n",
    "        print(self.length*self.breadth,\" is area of rectangle\")\n",
    "\n",
    "class Square(Rectangle):\n",
    "    def __init__(self,side):\n",
    "        self.side = side\n",
    "        Rectangle.__init__(self,side,side)\n",
    "    \n",
    "    def getArea(self):\n",
    "        print(self.side*self.side,\" is area of square\")\n",
    "\n",
    "s = Square(4)\n",
    "r = Rectangle(2,4)\n",
    "s.getArea()\n",
    "r.getArea()"
   ]
  },
  {
   "cell_type": "markdown",
   "metadata": {},
   "source": [
    "#### polymorphism\n",
    "\n",
    "What is Polymorphism : In programming, polymorphism means same function name (but different signatures) being uses for different types."
   ]
  },
  {
   "cell_type": "code",
   "execution_count": 81,
   "metadata": {},
   "outputs": [
    {
     "name": "stdout",
     "output_type": "stream",
     "text": [
      "5\n",
      "3\n"
     ]
    }
   ],
   "source": [
    "# Python program to demonstrate in-built poly- \n",
    "# morphic functions \n",
    "  \n",
    "# len() being used for a string \n",
    "print(len(\"geeks\")) \n",
    "  \n",
    "# len() being used for a list \n",
    "print(len([10, 20, 30])) "
   ]
  },
  {
   "cell_type": "code",
   "execution_count": 82,
   "metadata": {},
   "outputs": [
    {
     "name": "stdout",
     "output_type": "stream",
     "text": [
      "5\n",
      "9\n"
     ]
    }
   ],
   "source": [
    "# A simple Python function to demonstrate  \n",
    "# Polymorphism \n",
    "  \n",
    "def add(x, y, z = 0):  \n",
    "    return x + y+z \n",
    "  \n",
    "# Driver code  \n",
    "print(add(2, 3)) \n",
    "print(add(2, 3, 4)) "
   ]
  },
  {
   "cell_type": "code",
   "execution_count": 83,
   "metadata": {
    "collapsed": true
   },
   "outputs": [],
   "source": [
    "class India(): \n",
    "    def capital(self): \n",
    "        print(\"New Delhi is the capital of India.\") \n",
    "  \n",
    "    def language(self): \n",
    "        print(\"Hindi the primary language of India.\") \n",
    "  \n",
    "    def type(self): \n",
    "        print(\"India is a developing country.\") \n",
    "        \n",
    "class USA(): \n",
    "    def capital(self): \n",
    "        print(\"Washington, D.C. is the capital of USA.\") \n",
    "  \n",
    "    def language(self): \n",
    "        print(\"English is the primary language of USA.\") \n",
    "  \n",
    "    def type(self): \n",
    "        print(\"USA is a developed country.\") "
   ]
  },
  {
   "cell_type": "code",
   "execution_count": 85,
   "metadata": {},
   "outputs": [
    {
     "name": "stdout",
     "output_type": "stream",
     "text": [
      "New Delhi is the capital of India.\n",
      "Hindi the primary language of India.\n",
      "India is a developing country.\n",
      "Washington, D.C. is the capital of USA.\n",
      "English is the primary language of USA.\n",
      "USA is a developed country.\n"
     ]
    }
   ],
   "source": [
    "obj_ind = India() \n",
    "obj_usa = USA() \n",
    "\n",
    "for country in (obj_ind, obj_usa): \n",
    "    country.capital() \n",
    "    country.language() \n",
    "    country.type() "
   ]
  },
  {
   "cell_type": "code",
   "execution_count": 86,
   "metadata": {
    "collapsed": true
   },
   "outputs": [],
   "source": [
    "class Bird: \n",
    "  def intro(self): \n",
    "    print(\"There are many types of birds.\") \n",
    "      \n",
    "  def flight(self): \n",
    "    print(\"Most of the birds can fly but some cannot.\") \n",
    "    \n",
    "class sparrow(Bird): \n",
    "  def flight(self): \n",
    "    print(\"Sparrows can fly.\") \n",
    "      \n",
    "class ostrich(Bird): \n",
    "  def flight(self): \n",
    "    print(\"Ostriches cannot fly.\") "
   ]
  },
  {
   "cell_type": "code",
   "execution_count": 87,
   "metadata": {},
   "outputs": [
    {
     "name": "stdout",
     "output_type": "stream",
     "text": [
      "There are many types of birds.\n",
      "Most of the birds can fly but some cannot.\n",
      "There are many types of birds.\n",
      "Sparrows can fly.\n",
      "There are many types of birds.\n",
      "Ostriches cannot fly.\n"
     ]
    }
   ],
   "source": [
    "obj_bird = Bird() \n",
    "obj_spr = sparrow() \n",
    "obj_ost = ostrich() \n",
    "  \n",
    "obj_bird.intro() \n",
    "obj_bird.flight() \n",
    "  \n",
    "obj_spr.intro() \n",
    "obj_spr.flight() \n",
    "  \n",
    "obj_ost.intro() \n",
    "obj_ost.flight() "
   ]
  },
  {
   "cell_type": "markdown",
   "metadata": {},
   "source": [
    "#### getter and setter methods"
   ]
  },
  {
   "cell_type": "code",
   "execution_count": 88,
   "metadata": {},
   "outputs": [
    {
     "name": "stdout",
     "output_type": "stream",
     "text": [
      "Python\n",
      "Machine Learning\n"
     ]
    }
   ],
   "source": [
    "class OOP:\n",
    "    def __init__(self,courseName):\n",
    "        self.courseName=courseName\n",
    "\n",
    "    def setCourse_Name(self,courseName):\n",
    "        self.courseName=courseName\n",
    "\n",
    "    def getCourse_Name(self):\n",
    "        return(self.courseName)\n",
    "\n",
    "ob=OOP(\"Python\")\n",
    "\n",
    "print(ob.getCourse_Name())\n",
    "\n",
    "ob.setCourse_Name(\"Machine Learning\")\n",
    "print(ob.getCourse_Name())"
   ]
  },
  {
   "cell_type": "markdown",
   "metadata": {},
   "source": [
    "# modules"
   ]
  },
  {
   "cell_type": "code",
   "execution_count": 89,
   "metadata": {
    "collapsed": true
   },
   "outputs": [],
   "source": [
    "import math"
   ]
  },
  {
   "cell_type": "code",
   "execution_count": 91,
   "metadata": {},
   "outputs": [
    {
     "name": "stdout",
     "output_type": "stream",
     "text": [
      "['__doc__', '__loader__', '__name__', '__package__', '__spec__', 'acos', 'acosh', 'asin', 'asinh', 'atan', 'atan2', 'atanh', 'ceil', 'copysign', 'cos', 'cosh', 'degrees', 'e', 'erf', 'erfc', 'exp', 'expm1', 'fabs', 'factorial', 'floor', 'fmod', 'frexp', 'fsum', 'gamma', 'gcd', 'hypot', 'inf', 'isclose', 'isfinite', 'isinf', 'isnan', 'ldexp', 'lgamma', 'log', 'log10', 'log1p', 'log2', 'modf', 'nan', 'pi', 'pow', 'radians', 'sin', 'sinh', 'sqrt', 'tan', 'tanh', 'tau', 'trunc']\n"
     ]
    }
   ],
   "source": [
    "print(dir(math))"
   ]
  },
  {
   "cell_type": "code",
   "execution_count": 92,
   "metadata": {
    "collapsed": true
   },
   "outputs": [],
   "source": [
    "from math import sqrt"
   ]
  },
  {
   "cell_type": "code",
   "execution_count": 93,
   "metadata": {
    "collapsed": true
   },
   "outputs": [],
   "source": [
    "from math import *"
   ]
  },
  {
   "cell_type": "code",
   "execution_count": null,
   "metadata": {
    "collapsed": true
   },
   "outputs": [],
   "source": []
  }
 ],
 "metadata": {
  "kernelspec": {
   "display_name": "Python 3",
   "language": "python",
   "name": "python3"
  },
  "language_info": {
   "codemirror_mode": {
    "name": "ipython",
    "version": 3
   },
   "file_extension": ".py",
   "mimetype": "text/x-python",
   "name": "python",
   "nbconvert_exporter": "python",
   "pygments_lexer": "ipython3",
   "version": "3.6.3"
  }
 },
 "nbformat": 4,
 "nbformat_minor": 2
}
