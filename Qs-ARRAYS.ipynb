{
 "cells": [
  {
   "cell_type": "markdown",
   "metadata": {},
   "source": [
    "1.\tHow do you find the missing number in a given integer array of 1 to 100?\n",
    "2.\tHow do you find the duplicate number on a given integer array?\n",
    "3.\tHow do you find the largest and smallest number in an unsorted integer array?\n",
    "4.\tHow do you find all pairs of an integer array whose sum is equal to a given number?\n",
    "\n",
    "6.\tHow are duplicates removed from a given array ?\n",
    "7.\tHow is an integer array sorted in place using the quicksort algorithm?\n",
    "8.\tHow do you remove duplicates from an array in place?\n",
    "9.\tHow do you reverse an array in place \n",
    "10.\tHow are duplicates removed from an array without using any library?\n"
   ]
  },
  {
   "cell_type": "markdown",
   "metadata": {},
   "source": [
    "# How do you find the missing number in a given integer array of 1 to 100?\n",
    "\n",
    "You are given a list of n-1 integers and these integers are in the range of 1 to n. There are no duplicates in list. One of the integers is missing in the list. Write an efficient code to find the missing integer.\n",
    "\n",
    "1. Get the sum of numbers \n",
    "       total = n*(n+1)/2\n",
    "2.  Subtract all the numbers from sum and  you will get the missing number."
   ]
  },
  {
   "cell_type": "code",
   "execution_count": 3,
   "metadata": {
    "collapsed": true
   },
   "outputs": [],
   "source": [
    "# getMissingNo takes list as argument \n",
    "def getMissingNo(A): \n",
    "    n = len(A) \n",
    "    \n",
    "    # calculate the total of n integers\n",
    "    total    = (n+1)*(n+2)/2\n",
    "    \n",
    "    # calculate the values in the array\n",
    "    sum_of_A = sum(A) \n",
    "    return total - sum_of_A \n"
   ]
  },
  {
   "cell_type": "code",
   "execution_count": 4,
   "metadata": {},
   "outputs": [
    {
     "name": "stdout",
     "output_type": "stream",
     "text": [
      "3.0\n"
     ]
    }
   ],
   "source": [
    "# Driver program to test above function \n",
    "A = [1, 2, 4, 5, 6] \n",
    "\n",
    "miss = getMissingNo(A) \n",
    "print(miss) "
   ]
  },
  {
   "cell_type": "markdown",
   "metadata": {},
   "source": [
    "#### Time Complexity : O(n)\n",
    "sum function is of O(n)"
   ]
  },
  {
   "cell_type": "markdown",
   "metadata": {},
   "source": [
    "# Find duplicates in O(n) time and O(1) extra space \n",
    "Given an array of n elements which contains elements from 0 to n-1, with any of these numbers appearing any number of times. \n",
    "\n",
    "Find these repeating numbers in O(n) and using only constant memory space.\n",
    "\n",
    "For example, let n be 7 and array be {1, 2, 3, 1, 3, 6, 6}, the answer should be 1, 3 and 6."
   ]
  },
  {
   "cell_type": "code",
   "execution_count": 19,
   "metadata": {
    "collapsed": true
   },
   "outputs": [],
   "source": [
    "# Function to print duplicates \n",
    "def printRepeating(arr, size): \n",
    "      \n",
    "    print(\"The repeating elements are: \") \n",
    "      \n",
    "    for i in range(0, size): \n",
    "          \n",
    "        if arr[abs(arr[i])] >= 0: \n",
    "            arr[abs(arr[i])] = -arr[abs(arr[i])] \n",
    "        else: \n",
    "            print (abs(arr[i]), end = \", \") "
   ]
  },
  {
   "cell_type": "code",
   "execution_count": 20,
   "metadata": {},
   "outputs": [
    {
     "name": "stdout",
     "output_type": "stream",
     "text": [
      "The repeating elements are: \n",
      "1, 3, 6, "
     ]
    }
   ],
   "source": [
    "# Driver code \n",
    "arr     = [1, 2, 3, 1, 3, 6, 6] \n",
    "arr_size = len(arr) \n",
    "  \n",
    "printRepeating(arr, arr_size) "
   ]
  },
  {
   "cell_type": "code",
   "execution_count": 18,
   "metadata": {},
   "outputs": [
    {
     "data": {
      "text/plain": [
       "-2"
      ]
     },
     "execution_count": 18,
     "metadata": {},
     "output_type": "execute_result"
    }
   ],
   "source": [
    "arr[abs(arr[0])]"
   ]
  },
  {
   "cell_type": "code",
   "execution_count": 21,
   "metadata": {},
   "outputs": [
    {
     "name": "stdout",
     "output_type": "stream",
     "text": [
      "[1, -2, -3, -1, 3, 6, -6]\n"
     ]
    }
   ],
   "source": [
    "print(arr)"
   ]
  },
  {
   "cell_type": "markdown",
   "metadata": {},
   "source": [
    "another example ..."
   ]
  },
  {
   "cell_type": "code",
   "execution_count": 33,
   "metadata": {
    "collapsed": true
   },
   "outputs": [],
   "source": [
    "def printDuplicates(arr): \n",
    "    dict = {} \n",
    "  \n",
    "    for ele in arr: \n",
    "        try: \n",
    "            dict[ele] += 1\n",
    "        except: \n",
    "            dict[ele] = 1\n",
    "              \n",
    "    for item in dict: \n",
    "          \n",
    "         # if frequency is more than 1 \n",
    "         # print the element \n",
    "        if(dict[item] > 1): \n",
    "            print(item, end=\" \") \n",
    "  \n",
    "    print(\"\\n\") "
   ]
  },
  {
   "cell_type": "code",
   "execution_count": 34,
   "metadata": {},
   "outputs": [
    {
     "name": "stdout",
     "output_type": "stream",
     "text": [
      "12 11 5 \n",
      "\n"
     ]
    }
   ],
   "source": [
    "list = [12, 11, 40, 12,  5, 6, 5, 12, 11, 11] \n",
    "printDuplicates(list) "
   ]
  },
  {
   "cell_type": "markdown",
   "metadata": {},
   "source": [
    "#### Time Complexity: O(n)"
   ]
  },
  {
   "cell_type": "markdown",
   "metadata": {},
   "source": [
    "# K’th Smallest/Largest Element in Unsorted Array?\n",
    "\n",
    "Given an array and a number k where k is smaller than size of array, we need to find the k’th smallest element in the given array. \n",
    "\n",
    "A Simple Solution is to sort the given array using a O(nlogn) sorting algorithm like Merge Sort, Heap Sort, etc and return the element at index k-1 in the sorted array. Time Complexity of this solution is O(nLogn)."
   ]
  },
  {
   "cell_type": "code",
   "execution_count": 25,
   "metadata": {
    "collapsed": true
   },
   "outputs": [],
   "source": [
    "def kthSmallest(arr, n, k): \n",
    "  \n",
    "    # Sort the given array  \n",
    "    arr.sort() \n",
    "  \n",
    "    # Return k'th element in the  \n",
    "    # sorted array  \n",
    "    return arr[k-1] "
   ]
  },
  {
   "cell_type": "code",
   "execution_count": 28,
   "metadata": {},
   "outputs": [
    {
     "name": "stdout",
     "output_type": "stream",
     "text": [
      "K'th smallest element is 3\n"
     ]
    }
   ],
   "source": [
    "arr = [12, 3, 5, 7, 19] \n",
    "n   = len(arr) \n",
    "k   = 1\n",
    "\n",
    "print(\"K'th smallest element is\",  kthSmallest(arr, n, k)) "
   ]
  },
  {
   "cell_type": "code",
   "execution_count": 29,
   "metadata": {},
   "outputs": [
    {
     "name": "stdout",
     "output_type": "stream",
     "text": [
      "[3, 5, 7, 12, 19]\n"
     ]
    }
   ],
   "source": [
    "print(arr)"
   ]
  },
  {
   "cell_type": "markdown",
   "metadata": {},
   "source": [
    "# find all pairs of an integer array whose sum is equal to a given number?"
   ]
  },
  {
   "cell_type": "code",
   "execution_count": 30,
   "metadata": {
    "collapsed": true
   },
   "outputs": [],
   "source": [
    "def getPairsCount(arr, n, sum): \n",
    "      \n",
    "    count = 0 # Initialize result \n",
    "  \n",
    "    # Consider all possible pairs \n",
    "    # and check their sums \n",
    "    for i in range(0, n): \n",
    "        for j in range(i + 1, n): \n",
    "            if arr[i] + arr[j] == sum: \n",
    "                count += 1\n",
    "      \n",
    "    return count "
   ]
  },
  {
   "cell_type": "code",
   "execution_count": 31,
   "metadata": {},
   "outputs": [
    {
     "name": "stdout",
     "output_type": "stream",
     "text": [
      "Count of pairs is 3\n"
     ]
    }
   ],
   "source": [
    "arr = [1, 5, 7, -1, 5] \n",
    "n = len(arr) \n",
    "sum = 6\n",
    "print(\"Count of pairs is\", \n",
    "      getPairsCount(arr, n, sum)) "
   ]
  },
  {
   "cell_type": "markdown",
   "metadata": {},
   "source": [
    "#### Time Complexity : $O(n^2)$"
   ]
  },
  {
   "cell_type": "markdown",
   "metadata": {},
   "source": [
    "# Remove duplicates from sorted array\n",
    "Given a sorted array, the task is to remove the duplicate elements from the array.\n",
    "\n",
    "Method 1: (Using extra space)\n",
    "\n",
    "    Create an auxiliary array temp[] to store unique elements.\n",
    "    Traverse input array and one by one copy unique elements of arr[] to temp[]. Also keep track of count of unique elements. Let this count be j.\n",
    "    Copy j elements from temp[] to arr[] and return j"
   ]
  },
  {
   "cell_type": "code",
   "execution_count": 52,
   "metadata": {
    "collapsed": true
   },
   "outputs": [],
   "source": [
    "def removeDuplicates(arr, n): \n",
    "  \n",
    "    # Return, if array is empty or contains a single element \n",
    "    if n == 0 or n == 1: \n",
    "        return n \n",
    "  \n",
    "    temp = list(range(n)) \n",
    "  \n",
    "    # Start traversing elements \n",
    "    j = 0; \n",
    "    for i in range(0, n-1): \n",
    "  \n",
    "        # If current element is not equal to next element then store that \n",
    "        # current element \n",
    "        if arr[i] != arr[i+1]: \n",
    "            temp[j] = arr[i] \n",
    "            j += 1\n",
    "  \n",
    "    # Store the last element as whether it is unique \n",
    "    # or repeated, it hasn't stored previously \n",
    "    temp[j] = arr[n-1] \n",
    "    j += 1\n",
    "      \n",
    "    # Modify original array \n",
    "    for i in range(0, j): \n",
    "        arr[i] = temp[i] \n",
    "  \n",
    "    return j "
   ]
  },
  {
   "cell_type": "code",
   "execution_count": 53,
   "metadata": {},
   "outputs": [
    {
     "name": "stdout",
     "output_type": "stream",
     "text": [
      "1 2 3 4 5 "
     ]
    }
   ],
   "source": [
    "arr = [1, 2, 2, 3, 4, 4, 4, 5, 5] \n",
    "n = len(arr) \n",
    "  \n",
    "# removeDuplicates() returns \n",
    "# new size of array. \n",
    "n = removeDuplicates(arr, n) \n",
    "  \n",
    "# Print updated array \n",
    "for i in range(n): \n",
    "    print (\"%d\"%(arr[i]), end = \" \") "
   ]
  },
  {
   "cell_type": "markdown",
   "metadata": {},
   "source": [
    "#### Time Complexity : O(n)"
   ]
  },
  {
   "cell_type": "code",
   "execution_count": null,
   "metadata": {
    "collapsed": true
   },
   "outputs": [],
   "source": []
  }
 ],
 "metadata": {
  "kernelspec": {
   "display_name": "Python 3",
   "language": "python",
   "name": "python3"
  },
  "language_info": {
   "codemirror_mode": {
    "name": "ipython",
    "version": 3
   },
   "file_extension": ".py",
   "mimetype": "text/x-python",
   "name": "python",
   "nbconvert_exporter": "python",
   "pygments_lexer": "ipython3",
   "version": "3.6.3"
  }
 },
 "nbformat": 4,
 "nbformat_minor": 2
}
