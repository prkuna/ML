{
 "cells": [
  {
   "cell_type": "markdown",
   "metadata": {},
   "source": [
    "# Big-O performance for the operations on Python lists\n",
    "\n",
    "- Two common operations are indexing and assigning to an index position. Both of these operations take the same amount of time no matter how large the list becomes. When an operation like this is independent of the size of the list they are O(1).\n",
    "\n",
    "- Another very common programming task is to grow a list. There are two ways to create a longer list. You can use the append method or the concatenation operator. The append method is O(1). However, the concatenation operator is O(k) where k is the size of the list that is being concatenated.\n",
    "\n",
    "- Let’s look at four different ways we might generate a list of n numbers starting with 0.\n"
   ]
  },
  {
   "cell_type": "code",
   "execution_count": 12,
   "metadata": {
    "collapsed": true
   },
   "outputs": [],
   "source": [
    "# using for loop method:\n",
    "def test1(number):\n",
    "    l = []\n",
    "    for i in range(number):\n",
    "        l = l + [i]"
   ]
  },
  {
   "cell_type": "code",
   "execution_count": 13,
   "metadata": {
    "collapsed": true
   },
   "outputs": [],
   "source": [
    "# using append method\n",
    "def test2(number):\n",
    "    l = []\n",
    "    for i in range(number):\n",
    "        l.append(i)"
   ]
  },
  {
   "cell_type": "code",
   "execution_count": 14,
   "metadata": {
    "collapsed": true
   },
   "outputs": [],
   "source": [
    "# list comprehension \n",
    "def test3(number):\n",
    "    l = [i for i in range(number)]"
   ]
  },
  {
   "cell_type": "code",
   "execution_count": 15,
   "metadata": {
    "collapsed": true
   },
   "outputs": [],
   "source": [
    "# using the range function wrapped by a call to the list constructor\n",
    "def test4(number):\n",
    "    l = list(range(number))"
   ]
  },
  {
   "cell_type": "code",
   "execution_count": 17,
   "metadata": {},
   "outputs": [
    {
     "name": "stdout",
     "output_type": "stream",
     "text": [
      "Concat, =  0.1968787 secs\n",
      "append, =  0.0009987 secs\n",
      "comprehension, =  0.0009992 secs\n",
      "range, =  0.0000000 secs\n"
     ]
    }
   ],
   "source": [
    "import time\n",
    "\n",
    "number = 10000\n",
    "\n",
    "# note the starting time\n",
    "start   = time.time()\n",
    "test1(number)\n",
    "end     = time.time()\n",
    "print('Concat, = {:10.7f} secs'.format(end-start))\n",
    "\n",
    "# note the starting time\n",
    "start   = time.time()\n",
    "test2(number)\n",
    "end     = time.time()\n",
    "print('append, = {:10.7f} secs'.format(end-start))\n",
    "\n",
    "# note the starting time\n",
    "start   = time.time()\n",
    "test3(number)\n",
    "end     = time.time()\n",
    "print('comprehension, = {:10.7f} secs'.format(end-start))\n",
    "\n",
    "# note the starting time\n",
    "start   = time.time()\n",
    "test4(number)\n",
    "end     = time.time()\n",
    "print('range, = {:10.7f} secs'.format(end-start))"
   ]
  },
  {
   "cell_type": "code",
   "execution_count": null,
   "metadata": {
    "collapsed": true
   },
   "outputs": [],
   "source": []
  }
 ],
 "metadata": {
  "kernelspec": {
   "display_name": "Python 3",
   "language": "python",
   "name": "python3"
  },
  "language_info": {
   "codemirror_mode": {
    "name": "ipython",
    "version": 3
   },
   "file_extension": ".py",
   "mimetype": "text/x-python",
   "name": "python",
   "nbconvert_exporter": "python",
   "pygments_lexer": "ipython3",
   "version": "3.6.3"
  }
 },
 "nbformat": 4,
 "nbformat_minor": 2
}
