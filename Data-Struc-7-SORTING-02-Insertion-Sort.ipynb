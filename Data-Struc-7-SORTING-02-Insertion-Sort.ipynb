{
 "cells": [
  {
   "cell_type": "markdown",
   "metadata": {},
   "source": [
    "# Insertion Sort\n",
    "\n",
    "How it works?\n",
    "\n",
    "7 8 5 4 9 2\n",
    "\n",
    "    (item 0, 1) --> 7 8 5 4 9 2\n",
    "    check 7 and 8.\n",
    "    7 is less than 8. \n",
    "    No change   --> 7 8 5 4 9 2\n",
    "\n",
    "\n",
    "    (item 1, 2) --> 7 8 5 4 9 2\n",
    "    check 8 and 5, \n",
    "    8 is not less than 5. \n",
    "    Swap.       --> 7 5 8 4 9 2\n",
    "                --> 5 7 8 4 9 2     \n",
    "\n",
    "    (item 2, 3) --> 5 7 8 4 9 2\n",
    "    check 8 and 4\n",
    "    4 is less than 8\n",
    "    swap        --> 5 7 4 8 9 2\n",
    "                --> 5 4 7 8 9 2\n",
    "                --> 4 5 7 8 9 2\n",
    "                \n",
    "    (item 3, 4) --> 4 5 7 8 9 2\n",
    "    check 8 and 9\n",
    "    No change   --> 4 5 7 8 9 2\n",
    "\n",
    "    (item 4, 5) --> 4 5 7 8 9 2\n",
    "    check 9 and 2\n",
    "    2 is less than 9\n",
    "    swap        --> 4 5 7 8 2 9\n",
    "                --> 4 5 7 2 8 9\n",
    "                --> 4 5 2 7 8 9\n",
    "                --> 4 2 5 7 8 9\n",
    "                --> 2 4 5 7 8 9\n",
    "\n",
    "Issue with insertion sort:-\n",
    "- if you have a really long list and a very small value at the extreme right end then lots of swapping may be needed\n",
    "\n",
    "- insertion sort is not a fast algorithm as it uses nested loops to sort\n",
    "\n",
    "- it is useful only for small data sets (around 10,000 items)\n",
    "\n",
    "- the Big-O notation would be O($n^2$)\n",
    "\n"
   ]
  },
  {
   "cell_type": "code",
   "execution_count": 5,
   "metadata": {
    "collapsed": true
   },
   "outputs": [],
   "source": [
    "def insertion_sort(A):\n",
    "    for i in range(1, len(A)):\n",
    "        \n",
    "        j = i -1\n",
    "        # to loop thru all the items to the left of i\n",
    "        while A[j] > A[j+1] and j>= 0:\n",
    "            \n",
    "            # check if the current item > next item\n",
    "            # swap\n",
    "            A[j], A[j+1] = A[j+1], A[j]\n",
    "            \n",
    "            j -= 1\n",
    "            \n",
    "    return alist"
   ]
  },
  {
   "cell_type": "markdown",
   "metadata": {},
   "source": [
    "Each swap is 3 operations ...hence expensive"
   ]
  },
  {
   "cell_type": "code",
   "execution_count": 6,
   "metadata": {
    "collapsed": true
   },
   "outputs": [],
   "source": [
    "alist = [7, 8, 5, 4, 9, 2]"
   ]
  },
  {
   "cell_type": "code",
   "execution_count": 7,
   "metadata": {},
   "outputs": [
    {
     "data": {
      "text/plain": [
       "[2, 4, 5, 7, 8, 9]"
      ]
     },
     "execution_count": 7,
     "metadata": {},
     "output_type": "execute_result"
    }
   ],
   "source": [
    "insertion_sort(alist)"
   ]
  },
  {
   "cell_type": "markdown",
   "metadata": {},
   "source": [
    "Qs-1: Suppose you have the following list of numbers to sort: <br>\n",
    "[15, 5, 4, 18, 12, 19, 14, 10, 8, 20] which list represents the partially sorted list after three complete passes of insertion sort?\n",
    "\n",
    "    (A) [4, 5, 12, 15, 14, 10, 8, 18, 19, 20]\n",
    "    (B) [15, 5, 4, 10, 12, 8, 14, 18, 19, 20]\n",
    "    (C) [4, 5, 15, 18, 12, 19, 14, 10, 8, 20]\n",
    "    (D) [15, 5, 4, 18, 12, 19, 14, 8, 10, 20]\n",
    "    \n",
    "Ans : C, Correct! Insertion sort works at the start of the list. Each pass produces a longer sorted list."
   ]
  },
  {
   "cell_type": "code",
   "execution_count": null,
   "metadata": {
    "collapsed": true
   },
   "outputs": [],
   "source": []
  }
 ],
 "metadata": {
  "kernelspec": {
   "display_name": "Python 3",
   "language": "python",
   "name": "python3"
  },
  "language_info": {
   "codemirror_mode": {
    "name": "ipython",
    "version": 3
   },
   "file_extension": ".py",
   "mimetype": "text/x-python",
   "name": "python",
   "nbconvert_exporter": "python",
   "pygments_lexer": "ipython3",
   "version": "3.6.3"
  }
 },
 "nbformat": 4,
 "nbformat_minor": 2
}
