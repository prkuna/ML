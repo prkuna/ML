{
 "cells": [
  {
   "cell_type": "code",
   "execution_count": 2,
   "metadata": {
    "collapsed": true
   },
   "outputs": [],
   "source": [
    "import numpy as np\n",
    "from scipy import linalg\n",
    "from numpy import array\n",
    "from numpy.linalg import eig"
   ]
  },
  {
   "cell_type": "code",
   "execution_count": 3,
   "metadata": {},
   "outputs": [
    {
     "name": "stdout",
     "output_type": "stream",
     "text": [
      "2x2 matrix is:\n",
      " [[10  6]\n",
      " [ 2  7]]\n"
     ]
    }
   ],
   "source": [
    "# create 2x2 matrix\n",
    "a = np.array([[10, 6], [2, 7]])\n",
    "print('2x2 matrix is:\\n', a)"
   ]
  },
  {
   "cell_type": "code",
   "execution_count": 5,
   "metadata": {},
   "outputs": [
    {
     "data": {
      "text/plain": [
       "numpy.ndarray"
      ]
     },
     "execution_count": 5,
     "metadata": {},
     "output_type": "execute_result"
    }
   ],
   "source": [
    "type(a)"
   ]
  },
  {
   "cell_type": "code",
   "execution_count": 4,
   "metadata": {},
   "outputs": [
    {
     "name": "stdout",
     "output_type": "stream",
     "text": [
      "The dimension of the matrix is : (2, 2)\n"
     ]
    }
   ],
   "source": [
    "# using shape attribute to get the tuple describing matrix shape\n",
    "print('The dimension of the matrix is :', a.shape)"
   ]
  },
  {
   "cell_type": "code",
   "execution_count": 6,
   "metadata": {
    "collapsed": true
   },
   "outputs": [],
   "source": [
    "# using numpy.random.rand(row, column) to generate array of random element\n",
    "c = np.matrix(np.random.rand(3, 3), dtype=np.float32)  # considering the data-type as float"
   ]
  },
  {
   "cell_type": "code",
   "execution_count": 7,
   "metadata": {},
   "outputs": [
    {
     "name": "stdout",
     "output_type": "stream",
     "text": [
      "\n",
      "3x3 random element matrix is:\n",
      " [[ 0.90453774  0.33598548  0.4742333 ]\n",
      " [ 0.96075416  0.44491372  0.98656476]\n",
      " [ 0.14499946  0.99224275  0.66462493]]\n"
     ]
    }
   ],
   "source": [
    "print('\\n3x3 random element matrix is:\\n', c)"
   ]
  },
  {
   "cell_type": "code",
   "execution_count": 8,
   "metadata": {},
   "outputs": [
    {
     "name": "stdout",
     "output_type": "stream",
     "text": [
      "The dimension of the matrix is : (3, 3)\n"
     ]
    }
   ],
   "source": [
    "# using shape attribute to get the tuple describing matrix shape\n",
    "print('The dimension of the matrix is :', c.shape)"
   ]
  },
  {
   "cell_type": "code",
   "execution_count": null,
   "metadata": {
    "collapsed": true
   },
   "outputs": [],
   "source": [
    "# Matrix addition"
   ]
  },
  {
   "cell_type": "code",
   "execution_count": 9,
   "metadata": {
    "collapsed": true
   },
   "outputs": [],
   "source": [
    "# create two 2x2 matrix\n",
    "a = np.matrix([[1, 2], [3, 4]])  # using array of array\n",
    "b = np.matrix([[5, 6], [7, 8]])  # using array of array"
   ]
  },
  {
   "cell_type": "code",
   "execution_count": 12,
   "metadata": {},
   "outputs": [
    {
     "name": "stdout",
     "output_type": "stream",
     "text": [
      "A matrix :\n",
      " [[1 2]\n",
      " [3 4]]\n",
      "\n",
      "B matrix :\n",
      " [[5 6]\n",
      " [7 8]]\n"
     ]
    }
   ],
   "source": [
    "print('A matrix :\\n', a)\n",
    "print('\\nB matrix :\\n', b)"
   ]
  },
  {
   "cell_type": "code",
   "execution_count": 11,
   "metadata": {},
   "outputs": [
    {
     "name": "stdout",
     "output_type": "stream",
     "text": [
      "\n",
      "Calculated using matrix + operator :\n",
      " [[ 6  8]\n",
      " [10 12]]\n"
     ]
    }
   ],
   "source": [
    "# get the result by simply using + operator\n",
    "\n",
    "resultB = a + b\n",
    "print('\\nCalculated using matrix + operator :\\n', resultB)"
   ]
  },
  {
   "cell_type": "code",
   "execution_count": 13,
   "metadata": {},
   "outputs": [
    {
     "name": "stdout",
     "output_type": "stream",
     "text": [
      "\n",
      "Calculated using matrix * operator :\n",
      " [[19 22]\n",
      " [43 50]]\n"
     ]
    }
   ],
   "source": [
    "resultC = a * b\n",
    "print('\\nCalculated using matrix * operator :\\n', resultC)"
   ]
  },
  {
   "cell_type": "code",
   "execution_count": null,
   "metadata": {
    "collapsed": true
   },
   "outputs": [],
   "source": []
  },
  {
   "cell_type": "code",
   "execution_count": 4,
   "metadata": {},
   "outputs": [
    {
     "data": {
      "text/plain": [
       "array([[ 0.12068966, -0.10344828],\n",
       "       [-0.03448276,  0.17241379]])"
      ]
     },
     "execution_count": 4,
     "metadata": {},
     "output_type": "execute_result"
    }
   ],
   "source": [
    "linalg.inv(matrix)"
   ]
  },
  {
   "cell_type": "code",
   "execution_count": 5,
   "metadata": {},
   "outputs": [
    {
     "data": {
      "text/plain": [
       "58.0"
      ]
     },
     "execution_count": 5,
     "metadata": {},
     "output_type": "execute_result"
    }
   ],
   "source": [
    "# determinants\n",
    "linalg.det(matrix)"
   ]
  },
  {
   "cell_type": "code",
   "execution_count": 9,
   "metadata": {
    "collapsed": true
   },
   "outputs": [],
   "source": [
    "# Declaring the numpy arrays\n",
    "# The solve function takes two inputs ‘a’ and ‘b’ \n",
    "# ‘a’ represents the coefficients and \n",
    "# ‘b’ represents the respective right hand side value \n",
    "# and returns the solution array.\n",
    "\n",
    "a = np.array([[3, 2, 0], [1, -1, 0], [0, 5, 1]])\n",
    "b = np.array([2, 4, -1])"
   ]
  },
  {
   "cell_type": "code",
   "execution_count": 10,
   "metadata": {
    "collapsed": true
   },
   "outputs": [],
   "source": [
    "# Passing the values to the solve function\n",
    "results = linalg.solve(a, b)"
   ]
  },
  {
   "cell_type": "code",
   "execution_count": 11,
   "metadata": {},
   "outputs": [
    {
     "name": "stdout",
     "output_type": "stream",
     "text": [
      "[ 2. -2.  9.]\n"
     ]
    }
   ],
   "source": [
    "#printing the result array\n",
    "print( results)"
   ]
  },
  {
   "cell_type": "code",
   "execution_count": null,
   "metadata": {
    "collapsed": true
   },
   "outputs": [],
   "source": [
    "# Finding a Determinant"
   ]
  },
  {
   "cell_type": "code",
   "execution_count": 6,
   "metadata": {
    "collapsed": true
   },
   "outputs": [],
   "source": [
    "# The determinant of a square matrix A is often denoted as |A| and \n",
    "# is a quantity often used in linear algebra. \n",
    "\n",
    "# In SciPy, this is computed using the det() function. \n",
    "\n",
    "# It takes a matrix as input and returns a scalar value."
   ]
  },
  {
   "cell_type": "code",
   "execution_count": 7,
   "metadata": {},
   "outputs": [
    {
     "name": "stdout",
     "output_type": "stream",
     "text": [
      "-2.0\n"
     ]
    }
   ],
   "source": [
    "# Declaring the numpy array\n",
    "A = np.array([[1,2],[3,4]])\n",
    "\n",
    "# Passing the values to the det function\n",
    "x = linalg.det(A)\n",
    "\n",
    "# printing the result\n",
    "print (x)"
   ]
  },
  {
   "cell_type": "code",
   "execution_count": null,
   "metadata": {
    "collapsed": true
   },
   "outputs": [],
   "source": [
    "# Eigenvalues and Eigenvectors\n",
    "# The eigenvalue-eigenvector problem is one of the most commonly employed \n",
    "# linear algebra operations. \n",
    "\n",
    "# We can find the Eigen values (λ) and the corresponding Eigen vectors (v) \n",
    "# of a square matrix (A) by considering the following relation −\n",
    "\n",
    "# Av = λv\n",
    "\n",
    "# scipy.linalg.eig computes the eigenvalues from an ordinary or generalized \n",
    "# eigenvalue problem. \n",
    "# This function returns the Eigen values and the Eigen vectors."
   ]
  },
  {
   "cell_type": "code",
   "execution_count": 13,
   "metadata": {},
   "outputs": [
    {
     "name": "stdout",
     "output_type": "stream",
     "text": [
      "[-0.37228132+0.j  5.37228132+0.j]\n",
      "[[-0.82456484 -0.41597356]\n",
      " [ 0.56576746 -0.90937671]]\n"
     ]
    }
   ],
   "source": [
    "# Declaring the numpy array\n",
    "A = np.array([[1,2],[3,4]])\n",
    "\n",
    "# Passing the values to the eig function\n",
    "l, v = linalg.eig(A)\n",
    "\n",
    "# printing the result for eigen values\n",
    "print (l)\n",
    "\n",
    "#printing the result for eigen vectors\n",
    "print (v)"
   ]
  },
  {
   "cell_type": "code",
   "execution_count": null,
   "metadata": {
    "collapsed": true
   },
   "outputs": [],
   "source": [
    "# Singular Value Decomposition\n",
    "# A Singular Value Decomposition (SVD) can be thought of as an extension \n",
    "# of the eigenvalue problem to matrices that are not square.\n",
    "\n",
    "# The scipy.linalg.svd factorizes the matrix ‘a’ into two unitary matrices \n",
    "# ‘U’ and ‘Vh’ and a 1-D array ‘s’ of singular values (real, non-negative) \n",
    "# such that a == U*S*Vh, where ‘S’ is a suitably shaped matrix of zeros \n",
    "# with the main diagonal ‘s’."
   ]
  },
  {
   "cell_type": "code",
   "execution_count": 14,
   "metadata": {},
   "outputs": [
    {
     "name": "stdout",
     "output_type": "stream",
     "text": [
      "[[-0.14931228-0.40772156j  0.00856655+0.42220208j -0.78734896+0.11498959j]\n",
      " [ 0.29289166-0.13166707j  0.08424359-0.83183884j -0.40596606+0.18170573j]\n",
      " [-0.34621529-0.76712593j  0.29716236-0.1852396j   0.33123779-0.24354696j]] [[-0.79916611+0.j         -0.58771783+0.12617952j]\n",
      " [-0.60111024+0.j          0.78136113-0.16775358j]] [ 1.64444207  1.16421936]\n"
     ]
    }
   ],
   "source": [
    "# Declaring the numpy array\n",
    "a = np.random.randn(3, 2) + 1.j*np.random.randn(3, 2)\n",
    "\n",
    "#Passing the values to the eig function\n",
    "U, s, Vh = linalg.svd(a)\n",
    "\n",
    "# printing the result\n",
    "print (U, Vh, s)"
   ]
  },
  {
   "cell_type": "code",
   "execution_count": null,
   "metadata": {
    "collapsed": true
   },
   "outputs": [],
   "source": [
    "# Eigendecomposition of a Matrix\n",
    "\n",
    "# Eigendecomposition of a matrix is a type of decomposition that involves \n",
    "# decomposing a square matrix into a set of eigenvectors and eigenvalues.\n"
   ]
  },
  {
   "cell_type": "code",
   "execution_count": null,
   "metadata": {
    "collapsed": true
   },
   "outputs": [],
   "source": [
    "# A vector is an eigenvector of a matrix if it satisfies the following equation.\n",
    "# A . v = lambda . v\n",
    "\n",
    "#  where A is the parent square matrix that we are decomposing, v is the eigenvector of the \n",
    "# matrix, and lambda is the lowercase Greek letter and represents the eigenvalue scalar."
   ]
  },
  {
   "cell_type": "code",
   "execution_count": null,
   "metadata": {
    "collapsed": true
   },
   "outputs": [],
   "source": [
    "# A matrix could have one eigenvector and eigenvalue for each dimension of the parent matrix. \n",
    "# Not all square matrices can be decomposed into eigenvectors and eigenvalues, and some can only \n",
    "# be decomposed in a way that requires complex numbers. "
   ]
  },
  {
   "cell_type": "code",
   "execution_count": null,
   "metadata": {
    "collapsed": true
   },
   "outputs": [],
   "source": [
    "# Eigenvectors and Eigenvalues\n",
    "\n",
    "# Eigenvectors are unit vectors, which means that their length or magnitude is equal to 1.0\n",
    "\n",
    "# They are often referred as right vectors, which simply means a column vector \n",
    "# (as opposed to a row vector or a left vector). \n",
    "# A right-vector is a vector as we understand them.\n"
   ]
  },
  {
   "cell_type": "code",
   "execution_count": null,
   "metadata": {
    "collapsed": true
   },
   "outputs": [],
   "source": [
    "# Eigenvalues are coefficients applied to eigenvectors that give the vectors their length or \n",
    "# magnitude. For example, a negative eigenvalue may reverse the direction of the eigenvector \n",
    "# as part of scaling it.\n",
    "\n",
    "# A matrix that has only positive eigenvalues is referred to as a positive definite matrix, \n",
    "# whereas if the eigenvalues are all negative, it is referred to as a negative definite matrix."
   ]
  },
  {
   "cell_type": "code",
   "execution_count": 9,
   "metadata": {},
   "outputs": [
    {
     "name": "stdout",
     "output_type": "stream",
     "text": [
      "[[1 2 3]\n",
      " [4 5 6]\n",
      " [7 8 9]]\n",
      "[  1.61168440e+01  -1.11684397e+00  -1.30367773e-15]\n",
      "[[-0.23197069 -0.78583024  0.40824829]\n",
      " [-0.52532209 -0.08675134 -0.81649658]\n",
      " [-0.8186735   0.61232756  0.40824829]]\n"
     ]
    }
   ],
   "source": [
    "# eigendecomposition\n",
    "\n",
    "# define matrix\n",
    "A = array([[1, 2, 3], [4, 5, 6], [7, 8, 9]])\n",
    "print(A)\n",
    "\n",
    "# calculate eigendecomposition\n",
    "values, vectors = eig(A)\n",
    "\n",
    "print(values)\n",
    "print(vectors)"
   ]
  },
  {
   "cell_type": "code",
   "execution_count": null,
   "metadata": {
    "collapsed": true
   },
   "outputs": [],
   "source": []
  }
 ],
 "metadata": {
  "kernelspec": {
   "display_name": "Python 3",
   "language": "python",
   "name": "python3"
  },
  "language_info": {
   "codemirror_mode": {
    "name": "ipython",
    "version": 3
   },
   "file_extension": ".py",
   "mimetype": "text/x-python",
   "name": "python",
   "nbconvert_exporter": "python",
   "pygments_lexer": "ipython3",
   "version": "3.6.3"
  }
 },
 "nbformat": 4,
 "nbformat_minor": 2
}
