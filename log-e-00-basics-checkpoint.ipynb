{
 "cells": [
  {
   "cell_type": "code",
   "execution_count": 56,
   "metadata": {
    "collapsed": true
   },
   "outputs": [],
   "source": [
    "import time\n",
    "import random\n",
    "from math import *\n",
    "import operator\n",
    "import pandas as pd\n",
    "import numpy as np\n",
    "from numpy.linalg import inv\n",
    "\n",
    "# import plotting libraries\n",
    "import matplotlib\n",
    "import matplotlib.pyplot as plt\n",
    "from pandas.plotting import scatter_matrix\n",
    "%matplotlib inline \n",
    "\n",
    "import seaborn as sns\n",
    "sns.set(style=\"white\", color_codes=True)\n",
    "sns.set(font_scale=1.5)"
   ]
  },
  {
   "cell_type": "code",
   "execution_count": 24,
   "metadata": {},
   "outputs": [],
   "source": [
    "def compound_growth(principle, rate, no_times_compounding): \n",
    "    growth = principle * (pow((1 + rate / (no_times_compounding*100)), no_times_compounding))\n",
    "    return growth\n",
    "\n",
    "    #print(\"Compound interest is\", growth) "
   ]
  },
  {
   "cell_type": "code",
   "execution_count": 27,
   "metadata": {},
   "outputs": [
    {
     "name": "stdout",
     "output_type": "stream",
     "text": [
      "2.0\n",
      "2.25\n",
      "2.44140625\n",
      "2.5216263717421135\n",
      "2.565784513950348\n",
      "2.613035290224676\n",
      "2.663731258068599\n",
      "2.7145674820219727\n",
      "2.7169239322355936\n",
      "2.7181459268249255\n",
      "2.7182682371922975\n",
      "2.7182804690957534\n",
      "2.7182817983473577\n"
     ]
    }
   ],
   "source": [
    "print(compound_growth(1, 100, 1) )\n",
    "print(compound_growth(1, 100, 2) )\n",
    "print(compound_growth(1, 100, 4) )\n",
    "print(compound_growth(1, 100, 6) )\n",
    "print(compound_growth(1, 100, 8) )\n",
    "print(compound_growth(1, 100, 12) )\n",
    "print(compound_growth(1, 100, 24) )\n",
    "print(compound_growth(1, 100, 365) )\n",
    "print(compound_growth(1, 100, 1000) )\n",
    "print(compound_growth(1, 100, 10000) )\n",
    "print(compound_growth(1, 100, 100000) )\n",
    "print(compound_growth(1, 100, 1000000) )\n",
    "print(compound_growth(1, 100, 100000000) )  # 10 million units"
   ]
  },
  {
   "cell_type": "code",
   "execution_count": null,
   "metadata": {
    "collapsed": true
   },
   "outputs": [],
   "source": [
    "# e = Maximum, Continuous growth, 100% growth, One time period"
   ]
  }
 ],
 "metadata": {
  "kernelspec": {
   "display_name": "Python 3",
   "language": "python",
   "name": "python3"
  },
  "language_info": {
   "codemirror_mode": {
    "name": "ipython",
    "version": 3
   },
   "file_extension": ".py",
   "mimetype": "text/x-python",
   "name": "python",
   "nbconvert_exporter": "python",
   "pygments_lexer": "ipython3",
   "version": "3.6.3"
  }
 },
 "nbformat": 4,
 "nbformat_minor": 2
}
