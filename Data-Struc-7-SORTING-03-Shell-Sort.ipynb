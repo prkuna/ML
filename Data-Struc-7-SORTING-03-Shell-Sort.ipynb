{
 "cells": [
  {
   "cell_type": "markdown",
   "metadata": {},
   "source": [
    "# Shell Sort (by Donald Shell, 1959)\n",
    "\n",
    "The shell sort, sometimes called the “diminishing increment sort,” __improves on the insertion sort__ by breaking the original list into a number of smaller sublists, each of which is sorted using an insertion sort. \n",
    "\n",
    "The unique way that these sublists are chosen is the key to the shell sort.\n",
    "\n",
    "Instead of breaking the list into sublists of contiguous items, the shell sort uses an increment i, sometimes called the __gap__, to create a sublist by choosing all items that are i items apart.\n",
    "\n",
    "** (1) Odd number of items **\n",
    "\n",
    "    gap = floor(9/2) = 4\n",
    "\n",
    "    7       6      8      9       3       2       10      5       1\n",
    "    |-----------------------------|\n",
    "            |-----------------------------|\n",
    "                   |-------------------------------|\n",
    "                          |--------------------------------| \n",
    "                                                                  |\n",
    "    Swap the pairs if needed \n",
    "    7, 3\n",
    "    3 is less than 7 \n",
    "    so swap\n",
    "  \n",
    "    New List\n",
    "    new gap = floor (old gap/2)\n",
    "  \n",
    "    3       2      8      5       7       6       10      9       1\n",
    "    |--------------|\n",
    "            |-------------|\n",
    "                   |----------------------|\n",
    "                                                  |---------| \n",
    "                          \n",
    "                                   |------------------------|    \n",
    "                                           |------------------------| \n",
    " \n",
    " ** (2) Even number of items **\n",
    "\n",
    "    gap = floor(8/2) = 4\n",
    "\n",
    "    1       2      3      4       1       2       3       4   <-- slot\n",
    "    -       -      -      -       -       -       -       -\n",
    "    7       6      8      9       3       2       10      5   <-- data    \n",
    "    \n",
    "    |-----------------------------|  \n",
    "            |-----------------------------|           \n",
    "                   |-------------------------------|               \n",
    "                          |--------------------------------| \n",
    "                                                                                  \n",
    "    Swap the pairs if need \n",
    "    7, 3\n",
    "    3 is less than 7 \n",
    "    so swap\n",
    "  \n",
    "    New List\n",
    "    new gap = floor (old gap/2) = 4/2 = 2\n",
    "    \n",
    "    1       2      1      2       1       2       1       2   <-- slot\n",
    "    -       -      -      -       -       -       -       -\n",
    "    3       2      8      5       7       6       10      9   <-- data \n",
    "    \n",
    "    |--------------|--------------|---------------|\n",
    "            |-------------|---------------|---------------|\n",
    "                                  \n",
    "                                          \n",
    "    After shuffle sort, \n",
    "    \n",
    "    1       2      1      2       1       2       1       2   <-- slot\n",
    "    -       -      -      -       -       -       -       -\n",
    "    3              7              8               10          <-- data \n",
    "            2             5              6                9   <-- data \n",
    "   \n",
    "   \n",
    "    New List\n",
    "    new gap = floor (old gap/2) = 2/2 = 1 (regular insertion sort)\n",
    "    \n",
    "    1       2      1      2       1       2       1       2   <-- slot\n",
    "    -       -      -      -       -       -       -       -   <-- data\n",
    "    3       2      7      5       8       6       10      9   <-- data      \n",
    "    \n",
    "    sorted list after shuffle sort\n",
    "    \n",
    "    1       2      1      2       1       2       1       2   <-- slot\n",
    "    -       -      -      -       -       -       -       -   <-- data\n",
    "    2       3      5      6       7       8       9       10  <-- data    \n",
    "\n",
    "                   \n",
    "\n",
    "                                   "
   ]
  },
  {
   "cell_type": "code",
   "execution_count": 1,
   "metadata": {
    "collapsed": true
   },
   "outputs": [],
   "source": [
    "def shellSort(alist):\n",
    "    sublistcount = len(alist)//2\n",
    "    while sublistcount > 0:\n",
    "\n",
    "      for startposition in range(sublistcount):\n",
    "        gapInsertionSort(alist,startposition,sublistcount)\n",
    "\n",
    "      print(\"After increments of size\",sublistcount,\n",
    "                                   \"The list is\",alist)\n",
    "\n",
    "      sublistcount = sublistcount // 2\n",
    "\n",
    "def gapInsertionSort(alist,start,gap):\n",
    "    for i in range(start+gap,len(alist),gap):\n",
    "\n",
    "        currentvalue = alist[i]\n",
    "        position = i\n",
    "\n",
    "        while position>=gap and alist[position-gap]>currentvalue:\n",
    "            alist[position]=alist[position-gap]\n",
    "            position = position-gap\n",
    "\n",
    "        alist[position]=currentvalue\n"
   ]
  },
  {
   "cell_type": "code",
   "execution_count": 2,
   "metadata": {},
   "outputs": [
    {
     "name": "stdout",
     "output_type": "stream",
     "text": [
      "After increments of size 4 The list is [20, 26, 44, 17, 54, 31, 93, 55, 77]\n",
      "After increments of size 2 The list is [20, 17, 44, 26, 54, 31, 77, 55, 93]\n",
      "After increments of size 1 The list is [17, 20, 26, 31, 44, 54, 55, 77, 93]\n",
      "[17, 20, 26, 31, 44, 54, 55, 77, 93]\n"
     ]
    }
   ],
   "source": [
    "alist = [54,26,93,17,77,31,44,55,20]\n",
    "shellSort(alist)\n",
    "print(alist)"
   ]
  },
  {
   "cell_type": "code",
   "execution_count": null,
   "metadata": {
    "collapsed": true
   },
   "outputs": [],
   "source": []
  }
 ],
 "metadata": {
  "kernelspec": {
   "display_name": "Python 3",
   "language": "python",
   "name": "python3"
  },
  "language_info": {
   "codemirror_mode": {
    "name": "ipython",
    "version": 3
   },
   "file_extension": ".py",
   "mimetype": "text/x-python",
   "name": "python",
   "nbconvert_exporter": "python",
   "pygments_lexer": "ipython3",
   "version": "3.6.3"
  }
 },
 "nbformat": 4,
 "nbformat_minor": 2
}
