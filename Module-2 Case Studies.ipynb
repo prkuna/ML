{
 "cells": [
  {
   "cell_type": "markdown",
   "metadata": {},
   "source": [
    "# Case studies 1\n",
    "\n",
    "#### Write a program which will find factors of given number and find whether the factor is even or odd."
   ]
  },
  {
   "cell_type": "code",
   "execution_count": 17,
   "metadata": {
    "collapsed": true
   },
   "outputs": [],
   "source": [
    "# define a function\n",
    "def get_factors(x):\n",
    "    # This function takes a number and prints the factors\n",
    "\n",
    "    factors_list = []\n",
    "    prime_factor_list = []\n",
    "    prime_factor_list_temp = []\n",
    "    \n",
    "    for i in range(1, x + 1):\n",
    "        if x % i == 0:\n",
    "            factors_list.append(i)\n",
    "    for i in factors_list:\n",
    "        for j in range(1,i+1):\n",
    "            if i % j == 0:\n",
    "                prime_factor_list_temp.append(j)\n",
    "        if len(prime_factor_list_temp) < 3:\n",
    "            prime_factor_list.append(i)\n",
    "        prime_factor_list_temp.clear()\n",
    "            \n",
    "#         for j in range(1, i+1):\n",
    "#             if i % j == 0:\n",
    "#                 prime_factor_list_temp.append(j)\n",
    "#             if len(prime_factor_list_temp) == 2 or 1:\n",
    "#                 if x % i == 0:\n",
    "#                     prime_factor_list.append(i)\n",
    "#         prime_factor_list_temp.clear()\n",
    "        \n",
    "        \n",
    "                    \n",
    "                    \n",
    "                \n",
    "            \n",
    "    return factors_list, prime_factor_list\n"
   ]
  },
  {
   "cell_type": "code",
   "execution_count": 19,
   "metadata": {},
   "outputs": [
    {
     "name": "stdout",
     "output_type": "stream",
     "text": [
      "Enter a number: 1234567890\n",
      "[]\n",
      "The factors of 1234567890 = [1, 2, 3, 5, 6, 9, 10, 15, 18, 30, 45, 90, 3607, 3803, 7214, 7606, 10821, 11409, 18035, 19015, 21642, 22818, 32463, 34227, 36070, 38030, 54105, 57045, 64926, 68454, 108210, 114090, 162315, 171135, 324630, 342270, 13717421, 27434842, 41152263, 68587105, 82304526, 123456789, 137174210, 205761315, 246913578, 411522630, 617283945, 1234567890]\n",
      "The prime factors of 1234567890 = [1, 2, 3, 5, 3607, 3803]\n",
      "the factor 1 is ODD\n",
      "the factor 2 is EVEN\n",
      "the factor 3 is ODD\n",
      "the factor 5 is ODD\n",
      "the factor 6 is EVEN\n",
      "the factor 9 is ODD\n",
      "the factor 10 is EVEN\n",
      "the factor 15 is ODD\n",
      "the factor 18 is EVEN\n",
      "the factor 30 is EVEN\n",
      "the factor 45 is ODD\n",
      "the factor 90 is EVEN\n",
      "the factor 3607 is ODD\n",
      "the factor 3803 is ODD\n",
      "the factor 7214 is EVEN\n",
      "the factor 7606 is EVEN\n",
      "the factor 10821 is ODD\n",
      "the factor 11409 is ODD\n",
      "the factor 18035 is ODD\n",
      "the factor 19015 is ODD\n",
      "the factor 21642 is EVEN\n",
      "the factor 22818 is EVEN\n",
      "the factor 32463 is ODD\n",
      "the factor 34227 is ODD\n",
      "the factor 36070 is EVEN\n",
      "the factor 38030 is EVEN\n",
      "the factor 54105 is ODD\n",
      "the factor 57045 is ODD\n",
      "the factor 64926 is EVEN\n",
      "the factor 68454 is EVEN\n",
      "the factor 108210 is EVEN\n",
      "the factor 114090 is EVEN\n",
      "the factor 162315 is ODD\n",
      "the factor 171135 is ODD\n",
      "the factor 324630 is EVEN\n",
      "the factor 342270 is EVEN\n",
      "the factor 13717421 is ODD\n",
      "the factor 27434842 is EVEN\n",
      "the factor 41152263 is ODD\n",
      "the factor 68587105 is ODD\n",
      "the factor 82304526 is EVEN\n",
      "the factor 123456789 is ODD\n",
      "the factor 137174210 is EVEN\n",
      "the factor 205761315 is ODD\n",
      "the factor 246913578 is EVEN\n",
      "the factor 411522630 is EVEN\n",
      "the factor 617283945 is ODD\n",
      "the factor 1234567890 is EVEN\n"
     ]
    }
   ],
   "source": [
    "# uncomment the following line to take input from the user\n",
    "num = int(input(\"Enter a number: \"))\n",
    "\n",
    "factors_list, prime_factor_list, = get_factors(num)\n",
    "\n",
    "print(prime_factor_list_temp)\n",
    "print('The factors of {} = {}'.format(num, factors_list))\n",
    "print('The prime factors of {} = {}'.format(num, prime_factor_list))\n",
    "\n",
    "for factor in factors_list:\n",
    "    if factor % 2 ==0:\n",
    "        print('the factor {} is EVEN'.format(factor))\n",
    "    else:\n",
    "        print('the factor {} is ODD'.format(factor))"
   ]
  },
  {
   "cell_type": "markdown",
   "metadata": {},
   "source": [
    "#### Write a code which accepts a sequence of words as input and prints the words in a sequence after sorting them alphabetically. "
   ]
  },
  {
   "cell_type": "code",
   "execution_count": null,
   "metadata": {
    "collapsed": true
   },
   "outputs": [],
   "source": [
    "# uncomment to take input from the user\n",
    "my_str = input(\"Enter a string: \")\n",
    "\n",
    "# breakdown the string into a list of words\n",
    "words = my_str.split()\n",
    "\n",
    "# sort the list\n",
    "words.sort()\n",
    "\n",
    "# display the sorted words\n",
    "\n",
    "print(\"The sorted words are:\")\n",
    "for word in words:\n",
    "    print(word, end=', ')"
   ]
  },
  {
   "cell_type": "markdown",
   "metadata": {},
   "source": [
    "#### Write a program, which will find all the numbers between 1000 and 3000 (both included) such that each digit of a number is an even number. The numbers obtained should be printed in a comma separated sequence on a single line. \n",
    "\n",
    "Hint: In case of input data being supplied to the question, it should be assumed to\n",
    "be a console input. Divide each digit with 2 and verify is it even or not.\n"
   ]
  },
  {
   "cell_type": "code",
   "execution_count": null,
   "metadata": {
    "collapsed": true
   },
   "outputs": [],
   "source": [
    "start_number = 1000\n",
    "end_number   = 3000\n",
    "even_list = []\n",
    "\n",
    "for num in range(1000, 3000+1):\n",
    "    \n",
    "    str1     = str(num)\n",
    "    all_even = True\n",
    "    \n",
    "    for ch in str1:\n",
    "        digit = int(ch)\n",
    "               \n",
    "        if digit == 0:\n",
    "            all_even = False\n",
    "            break\n",
    "            \n",
    "        if digit % 2 != 0:\n",
    "            all_even = False\n",
    "            break\n",
    "    \n",
    "    if all_even:       \n",
    "        even_list.append(num)\n",
    "\n",
    "print(even_list)"
   ]
  },
  {
   "cell_type": "markdown",
   "metadata": {},
   "source": [
    "#### Write a program that accepts a sentence and calculate the number of letters and digits. \n",
    "\n",
    "Suppose if the entered string is: Python0325\n",
    "Then the output will be: \n",
    "    \n",
    "LETTERS: 6\n",
    "DIGITS:4\n",
    "Hint: Use built-in functions of string"
   ]
  },
  {
   "cell_type": "code",
   "execution_count": null,
   "metadata": {
    "collapsed": true
   },
   "outputs": [],
   "source": [
    "# uncomment to take input from the user\n",
    "my_str = input(\"Enter a string: \")\n",
    "\n",
    "count_ch    = 0\n",
    "count_digit = 0\n",
    "\n",
    "for a in my_str: \n",
    "    if (a.isalpha()) == True: \n",
    "        count_ch +=1\n",
    "    \n",
    "    if (a.isdigit()) == True: \n",
    "        count_digit +=1\n",
    "    \n",
    "        \n",
    "print(count_ch, count_digit) \n"
   ]
  },
  {
   "cell_type": "markdown",
   "metadata": {},
   "source": [
    "#### Design a code which will find the given number is Palindrome number or not."
   ]
  },
  {
   "cell_type": "code",
   "execution_count": null,
   "metadata": {
    "collapsed": true
   },
   "outputs": [],
   "source": [
    "class Deque:\n",
    "    def __init__(self):\n",
    "        self.items = []\n",
    "\n",
    "    def isEmpty(self):\n",
    "        return self.items == []\n",
    "\n",
    "    def addFront(self, item):\n",
    "        self.items.append(item)\n",
    "\n",
    "    def addRear(self, item):\n",
    "        self.items.insert(0, item)\n",
    "\n",
    "    def removeFront(self):\n",
    "        return self.items.pop()\n",
    "\n",
    "    def removeRear(self):\n",
    "        return self.items.pop(0)\n",
    "\n",
    "    def size(self):\n",
    "        return len(self.items)\n",
    "    \n",
    "    def display_all_items(self):\n",
    "        return (self.items)"
   ]
  },
  {
   "cell_type": "code",
   "execution_count": null,
   "metadata": {
    "collapsed": true
   },
   "outputs": [],
   "source": [
    "# initialize a stack\n",
    "de=Deque()\n",
    "\n",
    "input_string = 'bat'"
   ]
  },
  {
   "cell_type": "code",
   "execution_count": 51,
   "metadata": {
    "collapsed": true
   },
   "outputs": [],
   "source": [
    "# read every character of the input string and add to the deque\n",
    "for ch in input_string:\n",
    "    de.addRear(ch)"
   ]
  },
  {
   "cell_type": "code",
   "execution_count": 52,
   "metadata": {},
   "outputs": [
    {
     "name": "stdout",
     "output_type": "stream",
     "text": [
      "Input string is 'bat', reverse is 'tab'\n",
      "Not a Palindrome\n"
     ]
    }
   ],
   "source": [
    "# reconstruct from the deque\n",
    "new_string = ''\n",
    "while not de.isEmpty():\n",
    "    new_string = new_string+ de.removeRear()\n",
    "    \n",
    "print('Input string is \\'{}\\', reverse is \\'{}\\''.format(input_string, new_string))\n",
    "\n",
    "if input_string == new_string:\n",
    "    print('Palindrome found')\n",
    "else:\n",
    "    print('Not a Palindrome')"
   ]
  },
  {
   "cell_type": "markdown",
   "metadata": {
    "collapsed": true
   },
   "source": [
    "# case studies II"
   ]
  },
  {
   "cell_type": "markdown",
   "metadata": {},
   "source": [
    "#### What is the output of the following code?\n"
   ]
  },
  {
   "cell_type": "code",
   "execution_count": 53,
   "metadata": {},
   "outputs": [
    {
     "name": "stdout",
     "output_type": "stream",
     "text": [
      "{1, 2, 3, 4}\n"
     ]
    }
   ],
   "source": [
    "nums = set([1,1,2,3,3,3,4,4])\n",
    "print(nums)"
   ]
  },
  {
   "cell_type": "markdown",
   "metadata": {},
   "source": [
    "#### What will be the output?"
   ]
  },
  {
   "cell_type": "code",
   "execution_count": 54,
   "metadata": {},
   "outputs": [
    {
     "name": "stdout",
     "output_type": "stream",
     "text": [
      "['john', 'peter']\n"
     ]
    }
   ],
   "source": [
    "d = {\"john\":40, \"peter\":45}\n",
    "print(list(d.keys()))\n"
   ]
  },
  {
   "cell_type": "markdown",
   "metadata": {},
   "source": [
    "#### A website requires a user to input username and password to register. Write a programto check the validity of password given by user. Following are the criteria for checking password:\n",
    "\n",
    "    1. At least 1 letter between [a-z]\n",
    "    2. At least 1 number between [0-9]\n",
    "    1. At least 1 letter between [A-Z]\n",
    "    3. At least 1 character from [$#@]\n",
    "    4. Minimum length of transaction password: 6\n",
    "    5. Maximum length of transaction password: 12"
   ]
  },
  {
   "cell_type": "code",
   "execution_count": 77,
   "metadata": {},
   "outputs": [
    {
     "name": "stdout",
     "output_type": "stream",
     "text": [
      "Enter a string: 8484G7$fkfkfk\n",
      "password invalid\n",
      "['len should be betwwen 6 and 12']\n"
     ]
    }
   ],
   "source": [
    "# uncomment to take input from the user\n",
    "input_str = input(\"Enter a string: \")\n",
    "\n",
    "passwd_ok_lower  = False\n",
    "passwd_ok_upper  = False\n",
    "passwd_ok_digit  = False\n",
    "passwd_ok_spchar = False\n",
    "passwd_ok_len    = False\n",
    "\n",
    "failure_message = []\n",
    "\n",
    "# check for at least 1 lower case\n",
    "for ch in input_str:\n",
    "    if  ch.islower():\n",
    "        passwd_ok_lower = True\n",
    "        break;\n",
    "        \n",
    "# check for at least 1 upper case\n",
    "for ch in input_str:\n",
    "    if  ch.isupper():\n",
    "        passwd_ok_upper = True\n",
    "        break;\n",
    "        \n",
    "# check for at least 1 upper case\n",
    "for ch in input_str:\n",
    "    if  ch.isdigit():\n",
    "        passwd_ok_digit = True\n",
    "        break;\n",
    "\n",
    "# check for at least 1 upper case\n",
    "for ch in input_str:\n",
    "    if  ch in '$#@':\n",
    "        passwd_ok_spchar = True\n",
    "        break;\n",
    "\n",
    "# check for at least 1 upper case\n",
    "if len(input_str) >= 6 and len(input_str) <= 12:\n",
    "    passwd_ok_len = True\n",
    "    \n",
    "if not passwd_ok_lower:\n",
    "    failure_message.append('At least 1 lower case char [a-z]')\n",
    "    \n",
    "if not passwd_ok_upper:\n",
    "    failure_message.append('At least 1 upper case char [A-Z]')\n",
    "\n",
    "if not passwd_ok_digit:\n",
    "    failure_message.append('At least 1 digit [0-9]')\n",
    "\n",
    "if not passwd_ok_spchar:\n",
    "    failure_message.append('At least 1 special char [$#@]')\n",
    "\n",
    "if not passwd_ok_len:\n",
    "    failure_message.append('len should be betwwen 6 and 12')\n",
    "\n",
    "if passwd_ok_lower  and passwd_ok_upper  and passwd_ok_digit \\\n",
    "                    and passwd_ok_spchar and passwd_ok_len: \n",
    "    print(\"password valid\")\n",
    "else:\n",
    "    print(\"password invalid\")\n",
    "    print(failure_message)"
   ]
  },
  {
   "cell_type": "markdown",
   "metadata": {},
   "source": [
    "#### Write a for loop that prints all elements of a list and their position in the list.  a = [4,7,3,2,5,9] "
   ]
  },
  {
   "cell_type": "code",
   "execution_count": 78,
   "metadata": {},
   "outputs": [
    {
     "name": "stdout",
     "output_type": "stream",
     "text": [
      "Index  0  is  4\n",
      "Index  1  is  7\n",
      "Index  2  is  3\n",
      "Index  3  is  2\n",
      "Index  4  is  5\n",
      "Index  5  is  9\n"
     ]
    }
   ],
   "source": [
    "a = [4,7,3,2,5,9]\n",
    "\n",
    "for i in a:\n",
    "    print('Index ', a.index(i), ' is ', i)\n",
    "    "
   ]
  },
  {
   "cell_type": "markdown",
   "metadata": {},
   "source": [
    "#### Please write a program which accepts a string from console and print the characters that have even indexes.  \n",
    "\n",
    "Example: If the following string is given as input to the program:  H1e2l3l4o5w6o7r8l9d\n",
    " Then, the output of the program should be:\n",
    " Helloworld\n"
   ]
  },
  {
   "cell_type": "code",
   "execution_count": 80,
   "metadata": {},
   "outputs": [
    {
     "name": "stdout",
     "output_type": "stream",
     "text": [
      "Enter a string: jfjfjfjfjf\n",
      "jjjjj"
     ]
    }
   ],
   "source": [
    "# uncomment to take input from the user\n",
    "input_str = input(\"Enter a string: \")\n",
    "\n",
    "\n",
    "for ch in input_str:\n",
    "    if input_str.index(ch) % 2 ==0:\n",
    "        print(ch, end='')"
   ]
  },
  {
   "cell_type": "code",
   "execution_count": 1,
   "metadata": {},
   "outputs": [
    {
     "name": "stdout",
     "output_type": "stream",
     "text": [
      "Enter a string: 121\n"
     ]
    }
   ],
   "source": [
    "# uncomment to take input from the user\n",
    "input_str = input(\"Enter a string: \")"
   ]
  },
  {
   "cell_type": "code",
   "execution_count": 2,
   "metadata": {},
   "outputs": [
    {
     "data": {
      "text/plain": [
       "str"
      ]
     },
     "execution_count": 2,
     "metadata": {},
     "output_type": "execute_result"
    }
   ],
   "source": [
    "type(input_str)"
   ]
  },
  {
   "cell_type": "markdown",
   "metadata": {},
   "source": [
    "#### Please write a program which accepts a string from console and print it in reverse order.\n",
    " Example: If the following string is given as input to the program:\n",
    " rise to vote sir\n",
    " Then, the output of the program should be:\n",
    " ris etov ot esir\n"
   ]
  },
  {
   "cell_type": "code",
   "execution_count": 88,
   "metadata": {},
   "outputs": [
    {
     "name": "stdout",
     "output_type": "stream",
     "text": [
      "Enter a string: play well\n",
      "lplay wel"
     ]
    }
   ],
   "source": [
    "# uncomment to take input from the user\n",
    "input_str = input(\"Enter a string: \")\n",
    "\n",
    "len_str = len(input_str)\n",
    "\n",
    "for cur_pos in range(len_str):\n",
    "    print(input_str[cur_pos + len_str -1 -i], end='')"
   ]
  },
  {
   "cell_type": "markdown",
   "metadata": {},
   "source": [
    "#### With two given lists [1,3,6,78,35,55] and [12,24,35,24,88,120,155], write a program to make a list whose elements are intersection of the above given lists."
   ]
  },
  {
   "cell_type": "code",
   "execution_count": 92,
   "metadata": {},
   "outputs": [
    {
     "name": "stdout",
     "output_type": "stream",
     "text": [
      "[]\n"
     ]
    }
   ],
   "source": [
    "a = [1, 3, 6, 78, 35, 55]\n",
    "b = [12,24,36,24, 88, 120,155]\n",
    "\n",
    "common_list = []\n",
    "\n",
    "for num in a:\n",
    "    if num in b:\n",
    "        common_list.append(num)\n",
    "\n",
    "print(common_list)"
   ]
  },
  {
   "cell_type": "markdown",
   "metadata": {},
   "source": [
    "#### By using list comprehension, please write a program to print the list after removing the value 24 in [12,24,35,24,88,120,155]."
   ]
  },
  {
   "cell_type": "code",
   "execution_count": 94,
   "metadata": {},
   "outputs": [
    {
     "data": {
      "text/plain": [
       "[12, 35, 88, 120, 155]"
      ]
     },
     "execution_count": 94,
     "metadata": {},
     "output_type": "execute_result"
    }
   ],
   "source": [
    "a = [12,24,35,24,88,120,155]\n",
    "\n",
    "a_new = [num for num in a if num != 24]\n",
    "\n",
    "a_new"
   ]
  },
  {
   "cell_type": "markdown",
   "metadata": {},
   "source": [
    "#### By using list comprehension, please write a program to print the list after removing the 0th,4th,5th numbers in [12,24,35,70,88,120,155]."
   ]
  },
  {
   "cell_type": "code",
   "execution_count": 95,
   "metadata": {
    "collapsed": true
   },
   "outputs": [],
   "source": [
    "a = [12,24,35,70,88,120,155]"
   ]
  },
  {
   "cell_type": "code",
   "execution_count": 110,
   "metadata": {},
   "outputs": [
    {
     "data": {
      "text/plain": [
       "[24, 70, 120, 155]"
      ]
     },
     "execution_count": 110,
     "metadata": {},
     "output_type": "execute_result"
    }
   ],
   "source": [
    "a = [12,24,35,70,88,120,155]\n",
    "\n",
    "indexes = [0, 4, 2]\n",
    "indexes_sorted = sorted(indexes, reverse=True)\n",
    "\n",
    "for pos in indexes_sorted:\n",
    "    del a[pos]\n",
    "\n",
    "a"
   ]
  },
  {
   "cell_type": "markdown",
   "metadata": {},
   "source": [
    "#### By using list comprehension, please write a program to print the list after removing delete numbers which are divisible by 5 and 7 in [12,24,35,70,88,120,155]."
   ]
  },
  {
   "cell_type": "code",
   "execution_count": 120,
   "metadata": {},
   "outputs": [
    {
     "name": "stdout",
     "output_type": "stream",
     "text": [
      "[24, 70, 120, 155]\n"
     ]
    }
   ],
   "source": [
    "a = [12,24,35,70,88,120,155]\n",
    "\n",
    "indexes_to_delete = []\n",
    "\n",
    "for num in a:\n",
    "    if num % 5 == 0 and num% 7==0:\n",
    "        indexes_to_delete.append(a.index(num))\n",
    "\n",
    "sorted_indexes_to_delete = sorted(indexes_to_delete, reverse=True)\n",
    "\n",
    "for pos in indexes_sorted:\n",
    "    del a[pos]\n",
    "\n",
    "print(a)"
   ]
  },
  {
   "cell_type": "markdown",
   "metadata": {},
   "source": [
    "#### Write a program to compute 1/2+2/3+3/4+...+n/n+1 with a given n input by console (n>0).\n",
    "Example:\n",
    "If the following n is given as input to the program:\n",
    "5\n",
    "Then, the output of the program should be:\n",
    "3.55"
   ]
  },
  {
   "cell_type": "code",
   "execution_count": 132,
   "metadata": {},
   "outputs": [
    {
     "name": "stdout",
     "output_type": "stream",
     "text": [
      "Enter a string: 5\n",
      "3.5500000000000003\n"
     ]
    }
   ],
   "source": [
    "# uncomment to take input from the user\n",
    "input_num = int(input(\"Enter a string: \"))\n",
    "\n",
    "sum = 0.\n",
    "for num in range(1, input_num + 1):\n",
    "    sum += num/(num+1)\n",
    "\n",
    "print(sum)"
   ]
  },
  {
   "cell_type": "markdown",
   "metadata": {},
   "source": [
    "# case study III\n"
   ]
  },
  {
   "cell_type": "markdown",
   "metadata": {},
   "source": [
    "1. Read the input from command line – Reference ID\n",
    "2. Check for validity – it should be 12 digits and allows a number and alphabet\n",
    "3. Encrypt the Reference ID and print it for reference"
   ]
  },
  {
   "cell_type": "code",
   "execution_count": null,
   "metadata": {
    "collapsed": true
   },
   "outputs": [],
   "source": []
  }
 ],
 "metadata": {
  "kernelspec": {
   "display_name": "Python 3",
   "language": "python",
   "name": "python3"
  },
  "language_info": {
   "codemirror_mode": {
    "name": "ipython",
    "version": 3
   },
   "file_extension": ".py",
   "mimetype": "text/x-python",
   "name": "python",
   "nbconvert_exporter": "python",
   "pygments_lexer": "ipython3",
   "version": "3.6.3"
  }
 },
 "nbformat": 4,
 "nbformat_minor": 2
}
