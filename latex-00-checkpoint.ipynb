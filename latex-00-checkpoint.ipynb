{
 "cells": [
  {
   "cell_type": "markdown",
   "metadata": {},
   "source": [
    "$x_n$\t\n",
    "$x^2$\t\n",
    "$\\infty$\t\n",
    "$\\frac{a}{b}$\t\n",
    "$\\partial$\t\n",
    "$\\partial$y\t\n",
    "$\\alpha$\t\n",
    "$\\beta$\t\n",
    "$\\gamma$\t\n",
    "$\\Gamma$\t\n",
    "$\\Delta$\t\n",
    "$\\sin$\t\n",
    "$\\cos$\t\n",
    "$\\tan$\t\n",
    "$\\sum_{n=0}^{\\infty}$\t\n",
    "$\\prod_{n=0}^{\\infty}$\t\n",
    "$\\int_a^b$\t\n",
    "$\\lim_{x \\to a}$\t\n",
    "$\\mathrm{Hom}$\t\n",
    "$\\mathbf{v}$\t\n",
    "$\\mathbb{Z}$\t\n",
    "$\\mathscr{L}$\t\n",
    "$\\mathfrak{g}$\t\n",
    "$\\dots$\t\n",
    "$\\vdots$\t\n",
    "$\\ddots$"
   ]
  },
  {
   "cell_type": "markdown",
   "metadata": {},
   "source": [
    "#### Solution for PCA"
   ]
  },
  {
   "cell_type": "code",
   "execution_count": 4,
   "metadata": {
    "collapsed": true
   },
   "outputs": [],
   "source": [
    "import numpy as np\n",
    "import math\n",
    "from math import sqrt"
   ]
  },
  {
   "cell_type": "markdown",
   "metadata": {},
   "source": [
    "# $z = (\\frac{dy}{dx})^{1/3}$"
   ]
  },
  {
   "cell_type": "markdown",
   "metadata": {
    "collapsed": true
   },
   "source": [
    "${x_i}_a = {x_i}_a - \\mu$\n",
    "\n",
    "$ COV(b, a) = \\frac{1}{n} \\sum_{i=1}^{n}{x_i}_a.{x_i}_b$\n",
    "\n",
    "$ var(a) = \\frac{1}{n} \\sum_{i=1}^{n}{x_i}_{a}^2$"
   ]
  },
  {
   "cell_type": "markdown",
   "metadata": {},
   "source": [
    "$x_n$\t"
   ]
  },
  {
   "cell_type": "markdown",
   "metadata": {
    "collapsed": true
   },
   "source": [
    "$$MSE = \\frac{1}{N} * ∑(y_i − (mx_i+b))^2$$"
   ]
  },
  {
   "cell_type": "markdown",
   "metadata": {},
   "source": [
    "Cost Function:-\n",
    "\n",
    "$ f(m, b) = \\frac{1}{N}∑(y_i−(mx_i + b))^2$\n",
    "\n",
    "We can calculate the gradient of this cost function as:\n",
    "\n",
    "$$f′(m, b) = \\begin{bmatrix} \\frac{df}{dm} \\\\ \\frac{df}{db} \\end {bmatrix} = \\begin{bmatrix} \\frac {1}{N} ∑−2x_i(y_i−(mx_i+b)) \\\\ \\frac {1}{N} ∑−2(yi−(mxi+b))\\end {bmatrix} $$\n"
   ]
  },
  {
   "cell_type": "markdown",
   "metadata": {},
   "source": [
    "$$det(\\begin{bmatrix} 1.3 & .61 \\\\ .61 & .67 \\end {bmatrix} - \\lambda . I$$\n",
    "\n",
    "$$det(\\begin{bmatrix} 1.3 & .61 \\\\ .61 & .67 \\end {bmatrix} - \\lambda .\\\n",
    "\\begin{bmatrix} 1 & 0 \\\\ 0 & 1 \\end {bmatrix}$$\n",
    "\n",
    "$$det(\\begin{bmatrix} 1.3 -\\lambda & .61 \\\\ .61 & .67 -\\lambda \\end {bmatrix} $$\n"
   ]
  },
  {
   "cell_type": "markdown",
   "metadata": {},
   "source": [
    "$$ (1.3 -\\lambda) (.67 -\\lambda) - 0.61 * 0.61  $$\n",
    "\n",
    "$$ \\lambda^2 -1.3\\lambda -.67\\lambda + 1.3*.67 - .61^2 $$\n",
    "\n",
    "$$ \\lambda^2 -1.97\\lambda + .50 $$"
   ]
  },
  {
   "cell_type": "code",
   "execution_count": 8,
   "metadata": {},
   "outputs": [
    {
     "name": "stdout",
     "output_type": "stream",
     "text": [
      "There are 2 roots: 1.670730 and 0.299270\n"
     ]
    }
   ],
   "source": [
    "a = 1\n",
    "b = -1.97\n",
    "c = .5\n",
    "\n",
    "r = b**2 - 4*a*c\n",
    "\n",
    "if r > 0:\n",
    "    num_roots = 2\n",
    "    x1 = (((-b) + sqrt(r))/(2*a))     \n",
    "    x2 = (((-b) - sqrt(r))/(2*a))\n",
    "    print(\"There are 2 roots: %f and %f\" % (x1, x2))\n",
    "elif r == 0:\n",
    "    num_roots = 1\n",
    "    x = (-b) / 2*a\n",
    "    print(\"There is one root: \", x)\n",
    "else:\n",
    "    num_roots = 0\n",
    "    print(\"No roots, discriminant < 0.\")\n",
    "    exit()"
   ]
  },
  {
   "cell_type": "markdown",
   "metadata": {},
   "source": [
    "#### 1st PC"
   ]
  },
  {
   "cell_type": "markdown",
   "metadata": {},
   "source": [
    "$$\\begin{bmatrix} 1.3 & .61 \\\\ .61 & .67 \\end {bmatrix}.\\\n",
    "\\begin{bmatrix} {e_1}_1 \\\\ {e_1}_2 \\end {bmatrix} = \\\n",
    "1.67 * \\begin{bmatrix} {e_1}_1 \\\\ {e_1}_2 \\end {bmatrix} \n",
    "$$"
   ]
  },
  {
   "cell_type": "markdown",
   "metadata": {},
   "source": [
    "$$ 1.3 * {e_1}_1 + .61 * {e_1}_2 = 1.67 *  {e_1}_1$$\n",
    "$$.61 * {e_1}_1 + .67 * {e_1}_2 = 1.67 *  {e_1}_2$$\n",
    "\n",
    "$$ .37 * {e_1}_1 + .61 * {e_1}_2 = 0$$\n",
    "$$  .61 * {e_1}_1 +       {e_1}_2 = 0$$"
   ]
  },
  {
   "cell_type": "code",
   "execution_count": 19,
   "metadata": {},
   "outputs": [
    {
     "data": {
      "text/plain": [
       "array([0., 0.])"
      ]
     },
     "execution_count": 19,
     "metadata": {},
     "output_type": "execute_result"
    }
   ],
   "source": [
    "# Solve the system of equations 3 * x0 + x1 = 9 and x0 + 2 * x1 = 8:\n",
    "\n",
    "coeff = np.array([[-.31, 61], [.61, 1]])\n",
    "\n",
    "c = np.array([0, 0])\n",
    "\n",
    "x = np.linalg.solve(coeff, c)\n",
    "np.round(x, 2)"
   ]
  },
  {
   "cell_type": "code",
   "execution_count": 6,
   "metadata": {
    "collapsed": true
   },
   "outputs": [],
   "source": [
    "# def normalize(v):\n",
    "#     norm = np.linalg.norm(v)\n",
    "#     if norm == 0: \n",
    "#        return v\n",
    "#     return v / norm"
   ]
  },
  {
   "cell_type": "markdown",
   "metadata": {},
   "source": [
    "$$ .37 * {e_1}_1 = .61 * {e_1}_2 $$\n",
    "$$ .06 * {e_1}_1 = .67 * {e_1}_2 $$\n",
    "\n",
    "$$ {e_1}_1 = 1.65 * {e_1}_2 $$\n",
    "\n",
    "$$ {e_1} = \\begin{bmatrix} 1.65 \\\\ 1 \\end {bmatrix}$$\n",
    "Converting to unit vector \n",
    "$$ {e_1} = \\begin{bmatrix} .86 \\\\ .52 \\end {bmatrix}$$"
   ]
  },
  {
   "cell_type": "code",
   "execution_count": 22,
   "metadata": {},
   "outputs": [
    {
     "data": {
      "text/plain": [
       "0.6046511627906977"
      ]
     },
     "execution_count": 22,
     "metadata": {},
     "output_type": "execute_result"
    }
   ],
   "source": [
    "# slope \n",
    ".52/.86"
   ]
  },
  {
   "cell_type": "code",
   "execution_count": 21,
   "metadata": {},
   "outputs": [
    {
     "data": {
      "text/plain": [
       "array([0.85519783, 0.51830172])"
      ]
     },
     "execution_count": 21,
     "metadata": {},
     "output_type": "execute_result"
    }
   ],
   "source": [
    "a = [1.65, 1]\n",
    "a/np.linalg.norm(a)"
   ]
  },
  {
   "cell_type": "markdown",
   "metadata": {},
   "source": [
    "#### 2nd Eigen Vector"
   ]
  },
  {
   "cell_type": "markdown",
   "metadata": {},
   "source": [
    "$$\\begin{bmatrix} 1.3 & .61 \\\\ .61 & .67 \\end {bmatrix}.\\\n",
    "\\begin{bmatrix} {e_2}_1 \\\\ {e_2}_2 \\end {bmatrix} = \\\n",
    "0.29 * \\begin{bmatrix} {e_2}_1 \\\\ {e_2}_2 \\end {bmatrix} \n",
    "$$"
   ]
  },
  {
   "cell_type": "markdown",
   "metadata": {},
   "source": [
    "$$ 1.3 * {e_2}_1 + .61 * {e_2}_2 = 0.29 *  {e_2}_1$$\n",
    "$$ .61 * {e_2}_1 + .67 * {e_2}_2 = 0.29 *  {e_2}_2$$\n",
    "\n",
    "$$ 1.01 * {e_2}_1 + .61 * {e_2}_2 = 0$$\n",
    "$$ .61  * {e_2}_1 + .38 * {e_2}_2 = 0$$\n",
    "\n",
    "$$ {e_2}_1 = -.60 * {e_2}_2 $$\n",
    "\n",
    "$$ {e_2} = \\begin{bmatrix} -.60 \\\\ -1 \\end {bmatrix}$$\n",
    "Converting to unit vector \n",
    "$$ {e_2} = \\begin{bmatrix} -.51 \\\\ -.86 \\end {bmatrix}$$"
   ]
  },
  {
   "cell_type": "code",
   "execution_count": 23,
   "metadata": {},
   "outputs": [
    {
     "data": {
      "text/plain": [
       "1.6862745098039216"
      ]
     },
     "execution_count": 23,
     "metadata": {},
     "output_type": "execute_result"
    }
   ],
   "source": [
    "# slope \n",
    ".86/.51"
   ]
  },
  {
   "cell_type": "markdown",
   "metadata": {},
   "source": [
    "#### eigen vectors\n",
    "\n",
    "$$\\begin{bmatrix} e_1 \\\\ e_2 \\\\ e_3 \\\\ e_4 \\end {bmatrix}$$"
   ]
  },
  {
   "cell_type": "markdown",
   "metadata": {
    "collapsed": true
   },
   "source": [
    "$SST = ∑(y - \\bar{y })^2$\n",
    "\n",
    "$SSM = ∑(\\hat{y} - \\bar{y })^2$\n",
    "\n",
    "$SSE = ∑(y - \\hat{y })^2$\n",
    "\n",
    "$R^2 = \\frac{SSM}{SST}$\n",
    "\n",
    "$R^2$ will increase as we increase the number of features or complexity "
   ]
  },
  {
   "cell_type": "markdown",
   "metadata": {
    "collapsed": true
   },
   "source": [
    "$\\begin{bmatrix} 143 \\\\ 45 \\end {bmatrix}, \\begin{bmatrix} 157 \\\\ 55 \\end {bmatrix}, \\begin{bmatrix} 160 \\\\ 60 \\end {bmatrix}$"
   ]
  },
  {
   "cell_type": "markdown",
   "metadata": {
    "collapsed": true
   },
   "source": [
    "#### vector norms"
   ]
  },
  {
   "cell_type": "markdown",
   "metadata": {},
   "source": [
    "$||x||_p = (\\sum_{i=1}^{n} |x_i|^p)^\\frac{1}{p} $\n"
   ]
  },
  {
   "cell_type": "markdown",
   "metadata": {},
   "source": [
    "$x_2 = (\\sum_{i=1}^{n} x_i^2)^\\frac{1}{2} = √ (x^T · x) $"
   ]
  },
  {
   "cell_type": "code",
   "execution_count": null,
   "metadata": {
    "collapsed": true
   },
   "outputs": [],
   "source": []
  }
 ],
 "metadata": {
  "kernelspec": {
   "display_name": "Python 3",
   "language": "python",
   "name": "python3"
  },
  "language_info": {
   "codemirror_mode": {
    "name": "ipython",
    "version": 3
   },
   "file_extension": ".py",
   "mimetype": "text/x-python",
   "name": "python",
   "nbconvert_exporter": "python",
   "pygments_lexer": "ipython3",
   "version": "3.6.3"
  }
 },
 "nbformat": 4,
 "nbformat_minor": 2
}
