{
 "cells": [
  {
   "cell_type": "markdown",
   "metadata": {},
   "source": [
    "An eigenvector is a nonzero vector that satisfies the equation\n",
    "\n",
    "$$ A.\\bar{v} = \\lambda.\\bar{v}$$\n",
    "\n",
    "where A is a square matrix, λ is a scalar, and $\\bar v$ is the eigenvector\n",
    "\n",
    "- λ is called an eigenvalue.\n",
    "- Eigenvalues and eigenvectors are also known as, respectively, characteristic roots and characteristic vectors, \n",
    "- or latent roots and latent vectors\n",
    "\n",
    "__Solving__ eigen values and vectors of the matrix"
   ]
  },
  {
   "cell_type": "markdown",
   "metadata": {},
   "source": [
    "$$ \n",
    "A = {\\begin{bmatrix} 2 \\quad 1 \\\\ 1 \\quad 2 \\end{bmatrix}}\n",
    "$$\n",
    "Applying $$ A.\\bar{v} = \\lambda.\\bar{v}$$\n",
    "\n",
    "$$\n",
    "{\\begin{bmatrix} 2 \\quad 1 \\\\ 1 \\quad 2 \\end{bmatrix}}.\n",
    "{\\begin{bmatrix} x_1 \\\\ x_2 \\end{bmatrix}}\n",
    "= \\lambda.{\\begin{bmatrix} x_1 \\\\ x_2 \\end{bmatrix}}\n",
    "$$ \n",
    "\n",
    "__solve for λ, x1 and x2__\n",
    "$$\n",
    "2x_1 + x_2 = λx_1\n",
    "$$\n",
    "$$\n",
    "x_1 + 2x_2 = λx_2\n",
    "$$\n",
    "\n",
    "$$\n",
    "(2-\\lambda)x_1 + x_2 = 0\n",
    "$$\n",
    "$$\n",
    "x_1 + (2- \\lambda)x_2 = 0\n",
    "$$\n",
    "\n",
    "A necessary and sufficient condition for this system to have a nonzero vector [x1, x2] is that\n",
    "the __determinant of the coefficient matrix = 0__\n",
    "\n",
    "Accordingly,\n",
    "\n",
    "$$\n",
    "{\\begin{vmatrix} (2 - \\lambda) \\quad \\quad 1 \\\\ 1 \\quad \\quad (2 - \\lambda) \\end{vmatrix}} \n",
    "= 0\n",
    "$$\n",
    "\n",
    "$$\n",
    "(2 - \\lambda).(2 - \\lambda) - 1.1 = 0 \\\\     \n",
    "\\lambda^2 - 4\\lambda + 3 = 0 \\\\    \n",
    "(\\lambda - 3)(\\lambda - 1) = 0\n",
    "$$\n",
    "\n",
    "There are two values of λ that satisfy the last equation; thus there are two eigenvalues of the original matrix A and these are $λ_1 = 3,\\> λ_2 = 1$\n",
    "\n",
    "We can find eigenvectors which correspond to these eigenvalues by plugging λ back in to the equations above and solving for $x_1, \\> x_2$\n",
    "\n",
    "To find an eigenvector corresponding to λ = 3, start with, and substitute λ = 3 to get\n",
    "$$\n",
    "(2-\\lambda)x_1 + x_2 = 0 \\\\\n",
    "(2- 3)x_1 + x_2 = 0 \\\\\n",
    "$$\n",
    "which reduces and rearranges to\n",
    "$$x_1 = x_2$$\n",
    "\n",
    "There are an infinite number of values for x1 which satisfy this equation; the only restriction is that not all the components in an eigenvector can equal zero.\n",
    "\n",
    "So if x1 = 1, then x2 = 1\n",
    "and an __eigenvector corresponding to λ = 3 is [1, 1]__\n",
    "\n",
    "Finding an eigenvector for λ = 1 works the same way.\n",
    "$$(2 − 1)x_1 + x_2 = 0 \\\\\n",
    "x_1 = −x_2\n",
    "$$\n",
    "So an __eigenvector for λ = 1 is [1, −1]__"
   ]
  },
  {
   "cell_type": "code",
   "execution_count": null,
   "metadata": {
    "collapsed": true
   },
   "outputs": [],
   "source": []
  }
 ],
 "metadata": {
  "kernelspec": {
   "display_name": "Python 3",
   "language": "python",
   "name": "python3"
  },
  "language_info": {
   "codemirror_mode": {
    "name": "ipython",
    "version": 3
   },
   "file_extension": ".py",
   "mimetype": "text/x-python",
   "name": "python",
   "nbconvert_exporter": "python",
   "pygments_lexer": "ipython3",
   "version": "3.6.3"
  }
 },
 "nbformat": 4,
 "nbformat_minor": 2
}
