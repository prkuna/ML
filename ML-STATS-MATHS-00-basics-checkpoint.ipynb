{
 "cells": [
  {
   "cell_type": "code",
   "execution_count": 13,
   "metadata": {
    "collapsed": true
   },
   "outputs": [],
   "source": [
    "import numpy as np\n",
    "from numpy import array\n",
    "from numpy import mean\n",
    "from numpy import var\n",
    "from numpy import std\n",
    "from numpy import cov\n",
    "from numpy import corrcoef"
   ]
  },
  {
   "cell_type": "code",
   "execution_count": 3,
   "metadata": {},
   "outputs": [
    {
     "name": "stdout",
     "output_type": "stream",
     "text": [
      "[1 2 3 4 5 6]\n",
      "3.5\n"
     ]
    }
   ],
   "source": [
    "# mean\n",
    "\n",
    "v = array([1,2,3,4,5,6])\n",
    "print(v)\n",
    "result = mean(v)\n",
    "print(result)"
   ]
  },
  {
   "cell_type": "code",
   "execution_count": 4,
   "metadata": {},
   "outputs": [
    {
     "name": "stdout",
     "output_type": "stream",
     "text": [
      "[[1 2 3 4 5 6]\n",
      " [1 2 3 4 5 6]]\n",
      "[1. 2. 3. 4. 5. 6.]\n",
      "[3.5 3.5]\n"
     ]
    }
   ],
   "source": [
    "M = array([[1,2,3,4,5,6],[1,2,3,4,5,6]])\n",
    "print(M)\n",
    "col_mean = mean(M, axis=0)\n",
    "print(col_mean)\n",
    "\n",
    "row_mean = mean(M, axis=1)\n",
    "print(row_mean)"
   ]
  },
  {
   "cell_type": "code",
   "execution_count": 5,
   "metadata": {},
   "outputs": [
    {
     "name": "stdout",
     "output_type": "stream",
     "text": [
      "[1 2 3 4 5 6]\n",
      "3.5\n"
     ]
    }
   ],
   "source": [
    "# variance\n",
    "\n",
    "v = array([1,2,3,4,5,6])\n",
    "print(v)\n",
    "result = var(v, ddof=1)\n",
    "print(result)"
   ]
  },
  {
   "cell_type": "code",
   "execution_count": 6,
   "metadata": {},
   "outputs": [
    {
     "name": "stdout",
     "output_type": "stream",
     "text": [
      "[[1 2 3 4 5 6]\n",
      " [1 2 3 4 5 6]]\n",
      "[0. 0. 0. 0. 0. 0.]\n",
      "[3.5 3.5]\n"
     ]
    }
   ],
   "source": [
    "M = array([[1,2,3,4,5,6],[1,2,3,4,5,6]])\n",
    "print(M)\n",
    "col_mean = var(M, ddof=1, axis=0)\n",
    "print(col_mean)\n",
    "\n",
    "row_mean = var(M, ddof=1, axis=1)\n",
    "print(row_mean)"
   ]
  },
  {
   "cell_type": "code",
   "execution_count": 7,
   "metadata": {},
   "outputs": [
    {
     "name": "stdout",
     "output_type": "stream",
     "text": [
      "[[1 2 3 4 5 6]\n",
      " [1 2 3 4 5 6]]\n",
      "[0. 0. 0. 0. 0. 0.]\n",
      "[1.87082869 1.87082869]\n"
     ]
    }
   ],
   "source": [
    "M = array([[1,2,3,4,5,6],[1,2,3,4,5,6]])\n",
    "print(M)\n",
    "col_std = std(M, ddof=1, axis=0)\n",
    "print(col_std)\n",
    "\n",
    "row_std = std(M, ddof=1, axis=1)\n",
    "print(row_std)"
   ]
  },
  {
   "cell_type": "code",
   "execution_count": 8,
   "metadata": {},
   "outputs": [
    {
     "name": "stdout",
     "output_type": "stream",
     "text": [
      "[1 2 3 4 5 6 7 8 9]\n",
      "[9 8 7 6 5 4 3 2 1]\n",
      "-7.5\n"
     ]
    }
   ],
   "source": [
    "# Covariance\n",
    "\n",
    "x = array([1,2,3,4,5,6,7,8,9])\n",
    "print(x)\n",
    "\n",
    "y = array([9,8,7,6,5,4,3,2,1])\n",
    "print(y)\n",
    "\n",
    "cov_res = cov(x,y)[0,1]\n",
    "print(cov_res)"
   ]
  },
  {
   "cell_type": "code",
   "execution_count": 9,
   "metadata": {},
   "outputs": [
    {
     "name": "stdout",
     "output_type": "stream",
     "text": [
      "[1 2 3 4 5 6 7 8 9]\n",
      "[9 8 7 6 5 4 3 2 1]\n",
      "[[ 1. -1.]\n",
      " [-1.  1.]]\n"
     ]
    }
   ],
   "source": [
    "# correlation co-eff\n",
    "\n",
    "x = array([1,2,3,4,5,6,7,8,9])\n",
    "print(x)\n",
    "\n",
    "y = array([9,8,7,6,5,4,3,2,1])\n",
    "print(y)\n",
    "\n",
    "corr_coeff = corrcoef(x,y)\n",
    "print(corr_coeff)"
   ]
  },
  {
   "cell_type": "code",
   "execution_count": 10,
   "metadata": {},
   "outputs": [
    {
     "name": "stdout",
     "output_type": "stream",
     "text": [
      "[1 2 3 4 5 6 7 8 9]\n",
      "[19  8  6 16  5  4 13  2  1]\n",
      "[[  7.5        -11.        ]\n",
      " [-11.          40.44444444]]\n"
     ]
    }
   ],
   "source": [
    "## Covariance Matrix\n",
    "x = array([1,2,3,4,5,6,7,8,9])\n",
    "print(x)\n",
    "\n",
    "y = array([19,8,6,16,5,4,13,2,1])\n",
    "print(y)\n",
    "\n",
    "Sigma = cov(x,y)\n",
    "print(Sigma)"
   ]
  },
  {
   "cell_type": "code",
   "execution_count": 14,
   "metadata": {
    "collapsed": true
   },
   "outputs": [],
   "source": [
    "# Consider the matrix of 5 observations each of 3 variables, x0, x1 and x2 \n",
    "# whose observed values are held in the three rows of the array X:\n",
    "\n",
    "X = np.array([ [0.1, 0.3, 0.4, 0.8, 0.9],\n",
    "               [3.2, 2.4, 2.4, 0.1, 5.5],\n",
    "               [10., 8.2, 4.3, 2.6, 0.9]\n",
    "             ])"
   ]
  },
  {
   "cell_type": "code",
   "execution_count": 17,
   "metadata": {
    "collapsed": true
   },
   "outputs": [],
   "source": [
    "# The covariance matrix is a 3×3 array of values,\n"
   ]
  },
  {
   "cell_type": "code",
   "execution_count": 18,
   "metadata": {},
   "outputs": [
    {
     "data": {
      "text/plain": [
       "array([[ 0.115 ,  0.0575, -1.2325],\n",
       "       [ 0.0575,  3.757 , -0.8775],\n",
       "       [-1.2325, -0.8775, 14.525 ]])"
      ]
     },
     "execution_count": 18,
     "metadata": {},
     "output_type": "execute_result"
    }
   ],
   "source": [
    "np.cov(X) "
   ]
  },
  {
   "cell_type": "code",
   "execution_count": 19,
   "metadata": {
    "collapsed": true
   },
   "outputs": [],
   "source": [
    "# The diagonal elements, Cii are the variances in the variables xi assuming N−1 degrees of freedom:\n",
    "\n",
    "# Although the magnitude of the covariance matrix elements is not always easy to interpret \n",
    "# (because it depends on the magnitude of the individual observations which may be very different \n",
    "# for different variables), it is clear that there is a strong anti-correlation between x0 and x2 \n",
    "# (C02=−1.2325: as one increases the other decreases) and no strong correlation between x0 and x1 \n",
    "# (C01=0.0575: x0 and x1 do not trend strongly together)."
   ]
  },
  {
   "cell_type": "code",
   "execution_count": 2,
   "metadata": {
    "collapsed": true
   },
   "outputs": [],
   "source": [
    "# confidence interval\n",
    "import numpy as np"
   ]
  },
  {
   "cell_type": "code",
   "execution_count": 4,
   "metadata": {},
   "outputs": [
    {
     "name": "stdout",
     "output_type": "stream",
     "text": [
      "0.65\n"
     ]
    }
   ],
   "source": [
    "# Real percentage of people who love soccer\n",
    "love_cricket_prop = 0.65  \n",
    "\n",
    "# Total population 1350 million\n",
    "total_population  = 100* 10**3  \n",
    "\n",
    "num_people_love_cricket      = int(total_population * love_cricket_prop)\n",
    "num_people_dont_love_cricket = int(total_population * (1 - love_cricket_prop))\n",
    "\n",
    "people_love_cricket      = np.ones(num_people_love_cricket)\n",
    "people_dont_love_cricket = np.zeros(num_people_dont_love_cricket)\n",
    "\n",
    "all_people = np.hstack([people_love_cricket, people_dont_love_cricket])\n",
    "\n",
    "print (np.mean(all_people))"
   ]
  },
  {
   "cell_type": "code",
   "execution_count": 5,
   "metadata": {},
   "outputs": [
    {
     "name": "stdout",
     "output_type": "stream",
     "text": [
      "0.6499086\n"
     ]
    }
   ],
   "source": [
    "values = []\n",
    "for i in range(10000):\n",
    "    sample = np.random.choice(all_people, size=1000)\n",
    "    mean = np.mean(sample)\n",
    "    values.append(mean)\n",
    "print (np.mean(values))"
   ]
  },
  {
   "cell_type": "code",
   "execution_count": null,
   "metadata": {
    "collapsed": true
   },
   "outputs": [],
   "source": [
    "# We created 10K samples, checked what is the percentage of people who love cricket \n",
    "# in each sample, and then just averaged them, \n",
    "# we got 64.98% which is very close to the real value 65%. "
   ]
  },
  {
   "cell_type": "code",
   "execution_count": null,
   "metadata": {
    "collapsed": true
   },
   "outputs": [],
   "source": []
  }
 ],
 "metadata": {
  "kernelspec": {
   "display_name": "Python 3",
   "language": "python",
   "name": "python3"
  },
  "language_info": {
   "codemirror_mode": {
    "name": "ipython",
    "version": 3
   },
   "file_extension": ".py",
   "mimetype": "text/x-python",
   "name": "python",
   "nbconvert_exporter": "python",
   "pygments_lexer": "ipython3",
   "version": "3.6.3"
  }
 },
 "nbformat": 4,
 "nbformat_minor": 2
}
