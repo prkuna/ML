{
 "cells": [
  {
   "cell_type": "markdown",
   "metadata": {},
   "source": [
    "### Chain rule\n",
    "#### The chain rule is a formula for calculating the derivatives of composite functions. Composite functions are functions composed of functions inside other function(s).\n",
    "\n",
    "How It Works\n",
    "Given a composite function f(x)=A(B(x)), the derivative of f(x) equals the product of the derivative of A with respect to B(x) and the derivative of B with respect to x.\n",
    "\n",
    "composite function derivative=outer function derivative ∗ inner function derivative\n",
    "\n",
    "For example, given a composite function f(x), where:\n",
    "\n",
    "f(x) = h(g(x))\n",
    "\n",
    "The chain rule tells us that the derivative of f(x) equals:\n",
    "\n",
    "### $\\frac{df}{dx}$ = $\\frac{dh}{dg}$ * $\\frac{dg}{dx}$\n",
    "\n",
    "#### Step-by-step\n",
    "#### Say f(x) is composed of two functions h(x) = $x^3$ and g(x) = $x^2$. \n",
    "\n",
    "#### And that:\n",
    "\n",
    "#### f(x) = h(g(x)) = $(x^2)^3$\n",
    "\n",
    "#### The derivative of f(x) would equal: \n",
    "\n",
    "### $\\frac{df}{dx} = \\frac{dh}{dg} * \\frac{dg}{gx}$  $= \\frac{dh}{d(x^2)} * \\frac{dg}{gx}$\n",
    "\n",
    "### Steps\n",
    "\n",
    "#### 1. Solve for the inner derivative of g(x) = $x^2$\n",
    "### $\\frac{dg}{dx} = 2x$\n",
    "\n",
    "#### 2. Solve for the outer derivative of h(x) = $x^3$, using a placeholder b to represent the inner function $x^2$\n",
    "### $\\frac{dh}{db} = 3b^2$\n",
    "\n",
    "#### 3. Swap out the placeholder variable for the inner function\n",
    "### $\\frac{dh}{db} = 3x^4$\n",
    "\n",
    "#### 4. Return the product of the two derivatives\n",
    "### $\\frac{df}{dx} = \\frac{dh}{dg} * \\frac{dg}{gx}$  $= \\frac{dh}{d(x^2)} * \\frac{dg}{gx}$\n",
    "\n",
    "### = $3x^4 * 2x = 6x^5$"
   ]
  },
  {
   "cell_type": "markdown",
   "metadata": {},
   "source": [
    "### Multiple functions\n",
    "#### In the above example we assumed a composite function containing a single inner function. But the chain rule can also be applied to higher-order functions like:\n",
    "\n",
    "#### f(x) = A(B(C(x)))\n",
    "\n",
    "#### The chain rule tells us that the derivative of this function equals:\n",
    "\n",
    "$\\frac{df}{dx} = \\frac{dA}{dB} * \\frac{dB}{dC} * \\frac{dC}{dx}$\n",
    "\n",
    "#### f′ = A′(B(C(x))⋅B′(C(x))⋅C′(x)\n",
    "\n",
    "#### Steps\n",
    "\n",
    "#### Given the function f(x) = A(B(C(x))), lets assume:\n",
    "\n",
    "A(x) = sin(x) \n",
    "\n",
    "B(x) = x2 \n",
    "\n",
    "C(x) = 4x\n",
    "\n",
    "$\\frac{dA}{dx} = cos(x) $\n",
    "\n",
    "$\\frac{dB}{dx} = 2x $\n",
    "\n",
    "$\\frac{dC}{dx} = 4 $\n",
    "\n",
    "We can calculate the derivative of f(x) using the following formula:\n",
    "\n",
    "$f′(x) = A′((4x)^2)⋅B′(4x)⋅C′(x)$\n",
    "\n",
    "$f′(x) = cos((4x)^2)⋅2(4x)⋅4 = cos(16x2)⋅8x⋅4 = cos(16x2)32x$"
   ]
  },
  {
   "cell_type": "markdown",
   "metadata": {},
   "source": [
    "### Gradients\n",
    "#### A gradient is a vector that stores the partial derivatives of multivariable functions. \n",
    "\n",
    "It helps us calculate the slope at a specific point on a curve for functions with multiple independent variables. \n",
    "\n",
    "In order to calculate this more complex slope, we need to isolate each variable to determine how it impacts the output on its own. To do this we iterate through each of the variables and calculate the derivative of the function after holding all other variables constant. \n",
    "\n",
    "Each iteration produces a partial derivative which we store in the gradient.\n",
    "\n",
    "#### Step-by-step\n",
    "Here are the steps to calculate the gradient for a multivariable function:\n",
    "\n",
    "1. Given a multivariable function\n",
    "\n",
    "   $f(x,z) = 2z^3x^2$\n",
    "   \n",
    "2. Calculate the derivative with respect to x\n",
    "\n",
    "   $\\frac{df}{dx} (x, z)$"
   ]
  },
  {
   "cell_type": "code",
   "execution_count": null,
   "metadata": {
    "collapsed": true
   },
   "outputs": [],
   "source": []
  }
 ],
 "metadata": {
  "kernelspec": {
   "display_name": "Python 3",
   "language": "python",
   "name": "python3"
  },
  "language_info": {
   "codemirror_mode": {
    "name": "ipython",
    "version": 3
   },
   "file_extension": ".py",
   "mimetype": "text/x-python",
   "name": "python",
   "nbconvert_exporter": "python",
   "pygments_lexer": "ipython3",
   "version": "3.6.3"
  }
 },
 "nbformat": 4,
 "nbformat_minor": 2
}
