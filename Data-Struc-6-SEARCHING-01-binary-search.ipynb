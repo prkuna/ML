{
 "cells": [
  {
   "attachments": {
    "binsrch1.GIF": {
     "image/gif": "[encoded data removed]"
    }
   },
   "cell_type": "markdown",
   "metadata": {},
   "source": [
    "# The Binary Search\n",
    "\n",
    "- It is possible to take greater advantage of the ordered list if we are clever with our comparisons. \n",
    "\n",
    "- In the sequential search, when we compare against the first item, there are at most n−1 more items to look through if the first item is not what we are looking for. \n",
    "\n",
    "- Instead of searching the list in sequence, a binary search will start by examining the middle item. If that item is the one we are searching for, we are done. \n",
    "\n",
    "- If it is not the correct item, we can use the ordered nature of the list to eliminate half of the remaining items. \n",
    "\n",
    "- If the item we are searching for is greater than the middle item, we know that the entire lower half of the list as well as the middle item can be eliminated from further consideration. The item, if it is in the list, must be in the upper half.\n",
    "\n",
    "how this algorithm can quickly find the value 54. \n",
    "\n",
    "![binsrch1.GIF](attachment:binsrch1.GIF)"
   ]
  },
  {
   "cell_type": "code",
   "execution_count": 1,
   "metadata": {
    "collapsed": true
   },
   "outputs": [],
   "source": [
    "def binarySearch(alist, item):\n",
    "    first = 0\n",
    "    last  = len(alist)-1\n",
    "    found = False\n",
    "\n",
    "    while first <= last and not found:\n",
    "        midpoint = (first + last)//2\n",
    "        \n",
    "        if alist[midpoint] == item:\n",
    "            found = True\n",
    "        else:\n",
    "            if item < alist[midpoint]:\n",
    "                last = midpoint-1\n",
    "            else:\n",
    "                first = midpoint+1\n",
    "\n",
    "    return found"
   ]
  },
  {
   "cell_type": "code",
   "execution_count": 2,
   "metadata": {},
   "outputs": [
    {
     "name": "stdout",
     "output_type": "stream",
     "text": [
      "False\n",
      "True\n"
     ]
    }
   ],
   "source": [
    "testlist = [0, 1, 2, 8, 13, 17, 19, 32, 42,]\n",
    "print(binarySearch(testlist, 3))\n",
    "print(binarySearch(testlist, 13))"
   ]
  },
  {
   "cell_type": "markdown",
   "metadata": {},
   "source": [
    "- the algorithm is a great example of a divide and conquer strategy. \n",
    "\n",
    "- Divide and conquer means that we divide the problem into smaller pieces, solve the smaller pieces in some way, and then reassemble the whole problem to get the result. \n",
    "\n",
    "- When we perform a binary search of a list, we first check the middle item. \n",
    "\n",
    "- If the item we are searching for is less than the middle item, we can simply perform a binary search of the left half of the original list. \n",
    "\n",
    "- Likewise, if the item is greater, we can perform a binary search of the right half. \n",
    "\n",
    "- Either way, this is a __recursive__ call to the binary search function passing a smaller list. CodeLens 4 shows this recursive version."
   ]
  },
  {
   "cell_type": "code",
   "execution_count": 3,
   "metadata": {},
   "outputs": [
    {
     "name": "stdout",
     "output_type": "stream",
     "text": [
      "False\n",
      "True\n"
     ]
    }
   ],
   "source": [
    "def binarySearch(alist, item):\n",
    "    if len(alist) == 0:\n",
    "        return False\n",
    "    else:\n",
    "        midpoint = len(alist)//2\n",
    "        if alist[midpoint]==item:\n",
    "            return True\n",
    "        else:\n",
    "            if item<alist[midpoint]:\n",
    "                return binarySearch(alist[:midpoint], item)\n",
    "            else:\n",
    "                return binarySearch(alist[midpoint+1:],item)\n",
    "\n",
    "testlist = [0, 1, 2, 8, 13, 17, 19, 32, 42,]\n",
    "print(binarySearch(testlist, 3))\n",
    "print(binarySearch(testlist, 13))\n",
    "  "
   ]
  },
  {
   "attachments": {
    "binsrch2.GIF": {
     "image/gif": "[encoded data removed]"
    }
   },
   "cell_type": "markdown",
   "metadata": {},
   "source": [
    "### Analysis of Binary Search\n",
    "\n",
    "recall that each comparison eliminates about half of the remaining items from consideration. \n",
    "\n",
    "What is the maximum number of comparisons this algorithm will require to check the entire list? \n",
    "\n",
    "If we start with n items, about $\\frac{n}{2}$ items will be left after the first comparison. \n",
    "\n",
    "After the second comparison, there will be about $\\frac{n}{4}$. Then $\\frac{n}{8}$, $\\frac{n}{16}$, and so on.\n",
    "\n",
    "![binsrch2.GIF](attachment:binsrch2.GIF)\n",
    "\n",
    "When we split the list enough times, we end up with a list that has just 1 item. \n",
    "\n",
    "Either that is the item we are looking for or it is not. \n",
    "\n",
    "Either way, we are done. \n",
    "\n",
    "The number of comparisons necessary to get to this point is i where $\\frac{n}{2^i}$ = 1. \n",
    "\n",
    "Solving for i gives us i=logn. The maximum number of comparisons is logarithmic with respect to the number of items in the list. \n",
    "\n",
    "Therefore, the binary search is O(log n).\n",
    "\n",
    "Q-1: Suppose you have the following sorted list [3, 5, 6, 8, 11, 12, 14, 15, 17, 18] and are using the recursive binary search algorithm. Which group of numbers correctly shows the sequence of comparisons used to find the key 8.\n",
    "\n",
    "    (A) 11, 5, 6, 8\n",
    "    (B) 12, 6, 11, 8\n",
    "    (C) 3, 5, 6, 8\n",
    "    (D) 18, 12, 6, 8\n",
    "    \n",
    "Ans B, Binary search starts at the midpoint and halves the list each time."
   ]
  },
  {
   "cell_type": "code",
   "execution_count": null,
   "metadata": {
    "collapsed": true
   },
   "outputs": [],
   "source": []
  }
 ],
 "metadata": {
  "kernelspec": {
   "display_name": "Python 3",
   "language": "python",
   "name": "python3"
  },
  "language_info": {
   "codemirror_mode": {
    "name": "ipython",
    "version": 3
   },
   "file_extension": ".py",
   "mimetype": "text/x-python",
   "name": "python",
   "nbconvert_exporter": "python",
   "pygments_lexer": "ipython3",
   "version": "3.6.3"
  }
 },
 "nbformat": 4,
 "nbformat_minor": 2
}
