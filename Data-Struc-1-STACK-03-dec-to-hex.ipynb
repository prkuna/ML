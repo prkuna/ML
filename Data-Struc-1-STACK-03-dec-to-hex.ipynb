{
 "cells": [
  {
   "cell_type": "markdown",
   "metadata": {},
   "source": [
    "# Decimal to HEXDECIMAL conversion"
   ]
  },
  {
   "cell_type": "markdown",
   "metadata": {},
   "source": [
    "hexadecimal uses the ten decimal digits along with the first six alphabet characters for the 16 digits.\n",
    "\n",
    "The decimal number 233 and its corresponding octal $E9_{16}$ interpreted as\n",
    "\n",
    "$14\\times16^{1} + 9\\times16^{0}$"
   ]
  },
  {
   "cell_type": "code",
   "execution_count": 2,
   "metadata": {
    "collapsed": true
   },
   "outputs": [],
   "source": [
    "# define stack class\n",
    "class StackTOPn:\n",
    "    def __init__(self):\n",
    "        self.items = []\n",
    "\n",
    "    def isEmpty(self):\n",
    "        return self.items == []\n",
    "\n",
    "    def push(self, item):\n",
    "        self.items.append(item)\n",
    "\n",
    "    def pop(self):\n",
    "        return self.items.pop()\n",
    "\n",
    "    def peek(self):\n",
    "        return self.items[len(self.items)-1]\n",
    "\n",
    "    def size(self):\n",
    "        return len(self.items)\n",
    "    \n",
    "    def display_all_items(self):\n",
    "        return (self.items)"
   ]
  },
  {
   "cell_type": "code",
   "execution_count": 9,
   "metadata": {},
   "outputs": [],
   "source": [
    "hex_digits    = \"0123456789ABCDEF\"\n",
    "input_int     = 233\n",
    "input_integer = input_int\n",
    "base          = 16\n",
    "\n",
    "# initialize a stack to hold remainders\n",
    "stack = StackTOPn()"
   ]
  },
  {
   "cell_type": "code",
   "execution_count": 10,
   "metadata": {},
   "outputs": [
    {
     "name": "stdout",
     "output_type": "stream",
     "text": [
      "Stack =  [9, 14]\n"
     ]
    }
   ],
   "source": [
    "while input_integer > 0:\n",
    "    \n",
    "    # get the remainder\n",
    "    remainder = input_integer % base\n",
    "    \n",
    "    # push onto the stack\n",
    "    stack.push(remainder)\n",
    "    \n",
    "    # get the quotient\n",
    "    input_integer = input_integer // base\n",
    "\n",
    "print('Stack = ', stack.display_all_items())"
   ]
  },
  {
   "cell_type": "code",
   "execution_count": 11,
   "metadata": {},
   "outputs": [
    {
     "name": "stdout",
     "output_type": "stream",
     "text": [
      "The HEX representation of 233 is E9\n"
     ]
    }
   ],
   "source": [
    "binary_string = ''\n",
    "\n",
    "while not stack.isEmpty():\n",
    "    binary_string = binary_string + hex_digits[stack.pop()]\n",
    "    \n",
    "print('The HEX representation of {} is {}'.format(input_int, binary_string))\n",
    "    "
   ]
  },
  {
   "cell_type": "code",
   "execution_count": null,
   "metadata": {
    "collapsed": true
   },
   "outputs": [],
   "source": []
  }
 ],
 "metadata": {
  "kernelspec": {
   "display_name": "Python 3",
   "language": "python",
   "name": "python3"
  },
  "language_info": {
   "codemirror_mode": {
    "name": "ipython",
    "version": 3
   },
   "file_extension": ".py",
   "mimetype": "text/x-python",
   "name": "python",
   "nbconvert_exporter": "python",
   "pygments_lexer": "ipython3",
   "version": "3.6.3"
  }
 },
 "nbformat": 4,
 "nbformat_minor": 2
}
